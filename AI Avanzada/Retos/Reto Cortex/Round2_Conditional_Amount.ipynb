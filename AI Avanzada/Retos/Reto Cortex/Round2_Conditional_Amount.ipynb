{
  "cells": [
    {
      "cell_type": "markdown",
      "id": "62633f7b",
      "metadata": {
        "id": "62633f7b"
      },
      "source": [
        "![Python_logo](https://www.python.org/static/community_logos/python-logo-master-v3-TM.png)\n",
        "\n",
        "\n",
        " # **Cortex Game: Round2--Conditional Amount**\n",
        "\n",
        "Please note that you need to run this notebook 'Round2--Conditional Amount' first, before running the notebook 'Round2--Probability of Giving'.   "
      ]
    },
    {
      "cell_type": "markdown",
      "id": "c86ee20b-a48f-40e0-a726-ed8d58c063b6",
      "metadata": {
        "id": "c86ee20b-a48f-40e0-a726-ed8d58c063b6"
      },
      "source": [
        "> Before playing the game, you need to connect to SASPy first.\n",
        ">\n",
        ">> If it is your first time, please follow the 4 steps mentioned below!"
      ]
    },
    {
      "cell_type": "markdown",
      "id": "002c4525-7d94-40d5-a71c-cad1c13347fa",
      "metadata": {
        "id": "002c4525-7d94-40d5-a71c-cad1c13347fa"
      },
      "source": [
        "***\n",
        "## **Connect to SASPy**"
      ]
    },
    {
      "cell_type": "markdown",
      "source": [
        "**0- Connect to your Google Drive folder**"
      ],
      "metadata": {
        "id": "o2U8LlKyD2xJ"
      },
      "id": "o2U8LlKyD2xJ"
    },
    {
      "cell_type": "code",
      "source": [
        "my_folder = \"/content/drive/MyDrive/retoo\"\n",
        "\n",
        "from google.colab import drive\n",
        "drive.mount('/content/drive')\n",
        "\n",
        "# Change the following code to set your Drive folder\n",
        "import os\n",
        "os.chdir(my_folder)\n",
        "!pwd"
      ],
      "metadata": {
        "colab": {
          "base_uri": "https://localhost:8080/"
        },
        "id": "g9wt4YQRD2L4",
        "outputId": "4b9e24c6-41fd-46d7-a6b1-860e60661669"
      },
      "id": "g9wt4YQRD2L4",
      "execution_count": null,
      "outputs": [
        {
          "output_type": "stream",
          "name": "stdout",
          "text": [
            "Drive already mounted at /content/drive; to attempt to forcibly remount, call drive.mount(\"/content/drive\", force_remount=True).\n",
            "/content/drive/MyDrive/retoo\n"
          ]
        }
      ]
    },
    {
      "cell_type": "markdown",
      "id": "167ab055-0d92-4d45-987f-33c7272b5a41",
      "metadata": {
        "id": "167ab055-0d92-4d45-987f-33c7272b5a41"
      },
      "source": [
        "**1- Make sure that your Python version is 3.3 or higher as well as your Java version is 1.8.0_162 or higher**"
      ]
    },
    {
      "cell_type": "code",
      "execution_count": null,
      "id": "e10e8290-97b0-4166-8576-bdd0e7ccd288",
      "metadata": {
        "collapsed": true,
        "colab": {
          "base_uri": "https://localhost:8080/"
        },
        "id": "e10e8290-97b0-4166-8576-bdd0e7ccd288",
        "outputId": "e4fc4ea2-f78f-4989-9fa0-99e44960722c"
      },
      "outputs": [
        {
          "output_type": "stream",
          "name": "stdout",
          "text": [
            "Python is at /usr/local/bin/python\n",
            "Python 3.8.15\n"
          ]
        }
      ],
      "source": [
        "!echo \"Python is at\" $(which python)\n",
        "!python --version"
      ]
    },
    {
      "cell_type": "code",
      "source": [
        "!echo \"Java is at\" $(which java)\n",
        "!/usr/bin/java -version"
      ],
      "metadata": {
        "colab": {
          "base_uri": "https://localhost:8080/"
        },
        "id": "qBZhEsp2D_jF",
        "outputId": "3c53ea58-7f78-48d8-e8f9-2d5fd9c9aaa7"
      },
      "id": "qBZhEsp2D_jF",
      "execution_count": null,
      "outputs": [
        {
          "output_type": "stream",
          "name": "stdout",
          "text": [
            "Java is at /usr/bin/java\n",
            "openjdk version \"11.0.17\" 2022-10-18\n",
            "OpenJDK Runtime Environment (build 11.0.17+8-post-Ubuntu-1ubuntu218.04)\n",
            "OpenJDK 64-Bit Server VM (build 11.0.17+8-post-Ubuntu-1ubuntu218.04, mixed mode, sharing)\n"
          ]
        }
      ]
    },
    {
      "cell_type": "markdown",
      "id": "86bdc74f-a047-4782-9737-41e0274fd1f7",
      "metadata": {
        "id": "86bdc74f-a047-4782-9737-41e0274fd1f7"
      },
      "source": [
        "**2- Install SASPy**"
      ]
    },
    {
      "cell_type": "code",
      "execution_count": null,
      "id": "07fc07de-8c34-4d44-be52-fb4cedf9fd6a",
      "metadata": {
        "collapsed": true,
        "colab": {
          "base_uri": "https://localhost:8080/"
        },
        "id": "07fc07de-8c34-4d44-be52-fb4cedf9fd6a",
        "outputId": "899fa540-cc93-4225-a3be-b9bb2a61a559"
      },
      "outputs": [
        {
          "output_type": "stream",
          "name": "stdout",
          "text": [
            "Looking in indexes: https://pypi.org/simple, https://us-python.pkg.dev/colab-wheels/public/simple/\n",
            "Requirement already satisfied: saspy in /usr/local/lib/python3.8/dist-packages (4.4.1)\n"
          ]
        }
      ],
      "source": [
        "!pip install saspy"
      ]
    },
    {
      "cell_type": "markdown",
      "id": "9d37f71f-228c-4aa6-b4a2-3b03200bb46a",
      "metadata": {
        "id": "9d37f71f-228c-4aa6-b4a2-3b03200bb46a"
      },
      "source": [
        "**3- Create the configuration file \"sascfg_personal.py\"**\n",
        "Please, check that your Home Region is correct, you can check it at [ODA-SAS](https://welcome.oda.sas.com/home)"
      ]
    },
    {
      "cell_type": "code",
      "execution_count": null,
      "id": "83761b63-3c3f-4e12-b2de-3f39a203986d",
      "metadata": {
        "collapsed": true,
        "tags": [],
        "colab": {
          "base_uri": "https://localhost:8080/"
        },
        "id": "83761b63-3c3f-4e12-b2de-3f39a203986d",
        "outputId": "baaef8d9-e646-48ff-be52-b94c7725df19"
      },
      "outputs": [
        {
          "output_type": "stream",
          "name": "stdout",
          "text": [
            "Overwriting sascfg_personal.py\n"
          ]
        }
      ],
      "source": [
        "%%writefile sascfg_personal.py\n",
        "SAS_config_names=['oda']\n",
        "oda = {'java' : '/usr/bin/java',\n",
        "#US Home Region 1\n",
        "'iomhost' : ['odaws01-usw2.oda.sas.com','odaws02-usw2.oda.sas.com','odaws03-usw2.oda.sas.com','odaws04-usw2.oda.sas.com'],\n",
        "#US Home Region 2\n",
        "#'iomhost' : ['odaws01-usw2-2.oda.sas.com','odaws02-usw2-2.oda.sas.com'],\n",
        "#European Home Region 1\n",
        "#'iomhost' : ['odaws01-euw1.oda.sas.com','odaws02-euw1.oda.sas.com'],\n",
        "#Asia Pacific Home Region 1\n",
        "#'iomhost' : ['odaws01-apse1.oda.sas.com','odaws02-apse1.oda.sas.com'],\n",
        "#Asia Pacific Home Region 2\n",
        "#'iomhost' : ['odaws01-apse1-2.oda.sas.com','odaws02-apse1-2.oda.sas.com'],\n",
        "'iomport' : 8591,\n",
        "'authkey' : 'oda',\n",
        "'encoding' : 'utf-8'\n",
        "}"
      ]
    },
    {
      "cell_type": "markdown",
      "source": [
        "**4- Create your .authinfo**"
      ],
      "metadata": {
        "id": "YSM6Rl2zETJk"
      },
      "id": "YSM6Rl2zETJk"
    },
    {
      "cell_type": "markdown",
      "source": [
        "If there is no .authinfo file, you can create this"
      ],
      "metadata": {
        "id": "CSoOqIAgEXoM"
      },
      "id": "CSoOqIAgEXoM"
    },
    {
      "cell_type": "code",
      "source": [
        "#%%writefile .authinfo\n",
        "#oda user USR password PSW"
      ],
      "metadata": {
        "id": "UmLrv6cCETrF"
      },
      "id": "UmLrv6cCETrF",
      "execution_count": null,
      "outputs": []
    },
    {
      "cell_type": "markdown",
      "source": [
        "Copy this file to home"
      ],
      "metadata": {
        "id": "CQey8PS9EYm_"
      },
      "id": "CQey8PS9EYm_"
    },
    {
      "cell_type": "code",
      "source": [
        "!cp .authinfo ~/.authinfo"
      ],
      "metadata": {
        "id": "FM9XvF-GEbPi",
        "colab": {
          "base_uri": "https://localhost:8080/"
        },
        "outputId": "f35d7398-6bbc-47c8-c04f-e98e98ab2984"
      },
      "id": "FM9XvF-GEbPi",
      "execution_count": null,
      "outputs": [
        {
          "output_type": "stream",
          "name": "stdout",
          "text": [
            "cp: cannot stat '.authinfo': No such file or directory\n"
          ]
        }
      ]
    },
    {
      "cell_type": "markdown",
      "id": "326e7b08-655d-4b1b-a720-87ba34c63d07",
      "metadata": {
        "id": "326e7b08-655d-4b1b-a720-87ba34c63d07"
      },
      "source": [
        "**5- Establish Connection (Need to do this step each time you use SASPy)**"
      ]
    },
    {
      "cell_type": "code",
      "execution_count": null,
      "id": "f5510764-6263-440e-9b0e-1cac5b1472f8",
      "metadata": {
        "collapsed": true,
        "colab": {
          "base_uri": "https://localhost:8080/"
        },
        "id": "f5510764-6263-440e-9b0e-1cac5b1472f8",
        "outputId": "d285c3db-750f-4d04-b9df-d7019857d280"
      },
      "outputs": [
        {
          "output_type": "stream",
          "name": "stdout",
          "text": [
            "Using SAS Config named: oda\n",
            "Error trying to read authinfo file:/root/.authinfo\n",
            "[Errno 2] No such file or directory: '/root/.authinfo'\n",
            "Did not find key oda in authinfo file:/root/.authinfo\n",
            "\n",
            "Please enter the OMR user id: A00828688@tec.mx\n",
            "Please enter the password for OMR user : ··········\n",
            "SAS Connection established. Subprocess id is 2480\n",
            "\n"
          ]
        },
        {
          "output_type": "execute_result",
          "data": {
            "text/plain": [
              "Access Method         = IOM\n",
              "SAS Config name       = oda\n",
              "SAS Config file       = /content/drive/MyDrive/retoo/sascfg_personal.py\n",
              "WORK Path             = /saswork/SAS_work65DA00018A52_odaws01-usw2.oda.sas.com/SAS_workECDA00018A52_odaws01-usw2.oda.sas.com/\n",
              "SAS Version           = 9.04.01M6P11072018\n",
              "SASPy Version         = 4.4.1\n",
              "Teach me SAS          = False\n",
              "Batch                 = False\n",
              "Results               = Pandas\n",
              "SAS Session Encoding  = utf-8\n",
              "Python Encoding value = utf-8\n",
              "SAS process Pid value = 100946\n"
            ]
          },
          "metadata": {},
          "execution_count": 338
        }
      ],
      "source": [
        "import saspy\n",
        "sas_session = saspy.SASsession(cfgfile=os.path.join(\n",
        "    my_folder,\"sascfg_personal.py\"))\n",
        "sas_session"
      ]
    },
    {
      "cell_type": "markdown",
      "id": "19574f6f-9486-47f1-99e4-ca8141139cd4",
      "metadata": {
        "id": "19574f6f-9486-47f1-99e4-ca8141139cd4"
      },
      "source": [
        "***\n",
        "## Connect to Cortex Data Sets"
      ]
    },
    {
      "cell_type": "markdown",
      "id": "5ffa5b48",
      "metadata": {
        "id": "5ffa5b48"
      },
      "source": [
        "Load Cortex datasets from SAS Studio"
      ]
    },
    {
      "cell_type": "code",
      "source": [
        "ps = sas_session.submit(\"\"\"\n",
        "    libname cortex '~/my_shared_file_links/u39842936/Cortex Data Sets';\n",
        "    \"\"\")\n",
        "print(ps[\"LOG\"])"
      ],
      "metadata": {
        "colab": {
          "base_uri": "https://localhost:8080/"
        },
        "id": "NWl0nAdKElrE",
        "outputId": "03abe631-8343-4bbc-fa73-d598154de716"
      },
      "id": "NWl0nAdKElrE",
      "execution_count": null,
      "outputs": [
        {
          "output_type": "stream",
          "name": "stdout",
          "text": [
            "\n",
            "5                                                          The SAS System                      Friday, December  2, 2022 10:40:00 AM\n",
            "\n",
            "24         ods listing close;ods html5 (id=saspy_internal) file=_tomods1 options(bitmap_mode='inline') device=svg style=HTMLBlue;\n",
            "24       ! ods graphics on / outputfmt=png;\n",
            "25         \n",
            "26         \n",
            "27             libname cortex '~/my_shared_file_links/u39842936/Cortex Data Sets';\n",
            "28         \n",
            "29         \n",
            "30         \n",
            "31         ods html5 (id=saspy_internal) close;ods listing;\n",
            "32         \n",
            "\n",
            "6                                                          The SAS System                      Friday, December  2, 2022 10:40:00 AM\n",
            "\n",
            "33         \n"
          ]
        }
      ]
    },
    {
      "cell_type": "markdown",
      "source": [
        "For local Jupyter"
      ],
      "metadata": {
        "id": "ib1jUAN5Enkz"
      },
      "id": "ib1jUAN5Enkz"
    },
    {
      "cell_type": "code",
      "execution_count": null,
      "id": "d4204cf9",
      "metadata": {
        "collapsed": true,
        "id": "d4204cf9"
      },
      "outputs": [],
      "source": [
        "#%%SAS sas_session\n",
        "#libname cortex '~/my_shared_file_links/u39842936/Cortex Data Sets';"
      ]
    },
    {
      "cell_type": "markdown",
      "id": "bb730ee9",
      "metadata": {
        "id": "bb730ee9"
      },
      "source": [
        "### Transform cloud SAS dataset to Python dataframe (pandas)\n",
        "\n",
        "> For reference: \n",
        "\n",
        "> 1- [Pandas library](https://pandas.pydata.org/docs/user_guide/index.html)\n",
        "\n",
        "> 2- [sklearn.model_selection for data partition](https://scikit-learn.org/stable/modules/generated/sklearn.model_selection.train_test_split.html)"
      ]
    },
    {
      "cell_type": "code",
      "execution_count": null,
      "id": "f298efcc",
      "metadata": {
        "id": "f298efcc",
        "colab": {
          "base_uri": "https://localhost:8080/",
          "height": 414
        },
        "outputId": "44d15bb7-2f28-4e78-cbea-05598b2f3f95"
      },
      "outputs": [
        {
          "output_type": "stream",
          "name": "stdout",
          "text": [
            "No SAS process attached. SAS process has terminated unexpectedly.\n"
          ]
        },
        {
          "output_type": "error",
          "ename": "ValueError",
          "evalue": "ignored",
          "traceback": [
            "\u001b[0;31m---------------------------------------------------------------------------\u001b[0m",
            "\u001b[0;31mValueError\u001b[0m                                Traceback (most recent call last)",
            "\u001b[0;32m<ipython-input-403-a101048a3d21>\u001b[0m in \u001b[0;36m<module>\u001b[0;34m\u001b[0m\n\u001b[1;32m      3\u001b[0m \u001b[0;31m#comment: Transform cloud sas dataset to python dataframe(pandas) ==> might take some time.\u001b[0m\u001b[0;34m\u001b[0m\u001b[0;34m\u001b[0m\u001b[0;34m\u001b[0m\u001b[0m\n\u001b[1;32m      4\u001b[0m \u001b[0;34m\u001b[0m\u001b[0m\n\u001b[0;32m----> 5\u001b[0;31m data1 = sas_session.sasdata2dataframe(\n\u001b[0m\u001b[1;32m      6\u001b[0m \u001b[0mtable\u001b[0m\u001b[0;34m=\u001b[0m\u001b[0;34m'hist'\u001b[0m\u001b[0;34m,\u001b[0m\u001b[0;34m\u001b[0m\u001b[0;34m\u001b[0m\u001b[0m\n\u001b[1;32m      7\u001b[0m \u001b[0mlibref\u001b[0m\u001b[0;34m=\u001b[0m\u001b[0;34m'cortex'\u001b[0m\u001b[0;34m\u001b[0m\u001b[0;34m\u001b[0m\u001b[0m\n",
            "\u001b[0;32m/usr/local/lib/python3.8/dist-packages/saspy/sasbase.py\u001b[0m in \u001b[0;36msasdata2dataframe\u001b[0;34m(self, table, libref, dsopts, method, **kwargs)\u001b[0m\n\u001b[1;32m   1817\u001b[0m \u001b[0;34m\u001b[0m\u001b[0m\n\u001b[1;32m   1818\u001b[0m         \u001b[0mdsopts\u001b[0m \u001b[0;34m=\u001b[0m \u001b[0mdsopts\u001b[0m \u001b[0;32mif\u001b[0m \u001b[0mdsopts\u001b[0m \u001b[0;32mis\u001b[0m \u001b[0;32mnot\u001b[0m \u001b[0;32mNone\u001b[0m \u001b[0;32melse\u001b[0m \u001b[0;34m{\u001b[0m\u001b[0;34m}\u001b[0m\u001b[0;34m\u001b[0m\u001b[0;34m\u001b[0m\u001b[0m\n\u001b[0;32m-> 1819\u001b[0;31m         \u001b[0;32mif\u001b[0m \u001b[0mself\u001b[0m\u001b[0;34m.\u001b[0m\u001b[0mexist\u001b[0m\u001b[0;34m(\u001b[0m\u001b[0mtable\u001b[0m\u001b[0;34m,\u001b[0m \u001b[0mlibref\u001b[0m\u001b[0;34m)\u001b[0m \u001b[0;34m==\u001b[0m \u001b[0;36m0\u001b[0m\u001b[0;34m:\u001b[0m\u001b[0;34m\u001b[0m\u001b[0;34m\u001b[0m\u001b[0m\n\u001b[0m\u001b[1;32m   1820\u001b[0m             \u001b[0mlogger\u001b[0m\u001b[0;34m.\u001b[0m\u001b[0merror\u001b[0m\u001b[0;34m(\u001b[0m\u001b[0;34m'The SAS Data Set '\u001b[0m \u001b[0;34m+\u001b[0m \u001b[0mlibref\u001b[0m \u001b[0;34m+\u001b[0m \u001b[0;34m'.'\u001b[0m \u001b[0;34m+\u001b[0m \u001b[0mtable\u001b[0m \u001b[0;34m+\u001b[0m \u001b[0;34m' does not exist'\u001b[0m\u001b[0;34m)\u001b[0m\u001b[0;34m\u001b[0m\u001b[0;34m\u001b[0m\u001b[0m\n\u001b[1;32m   1821\u001b[0m             \u001b[0;32mif\u001b[0m \u001b[0mself\u001b[0m\u001b[0;34m.\u001b[0m\u001b[0msascfg\u001b[0m\u001b[0;34m.\u001b[0m\u001b[0mbcv\u001b[0m \u001b[0;34m<\u001b[0m \u001b[0;36m3007009\u001b[0m\u001b[0;34m:\u001b[0m\u001b[0;34m\u001b[0m\u001b[0;34m\u001b[0m\u001b[0m\n",
            "\u001b[0;32m/usr/local/lib/python3.8/dist-packages/saspy/sasbase.py\u001b[0m in \u001b[0;36mexist\u001b[0;34m(self, table, libref)\u001b[0m\n\u001b[1;32m    928\u001b[0m         \u001b[0;34m:\u001b[0m\u001b[0mrtype\u001b[0m\u001b[0;34m:\u001b[0m \u001b[0mbool\u001b[0m\u001b[0;34m\u001b[0m\u001b[0;34m\u001b[0m\u001b[0m\n\u001b[1;32m    929\u001b[0m         \"\"\"\n\u001b[0;32m--> 930\u001b[0;31m         \u001b[0;32mreturn\u001b[0m \u001b[0mself\u001b[0m\u001b[0;34m.\u001b[0m\u001b[0m_io\u001b[0m\u001b[0;34m.\u001b[0m\u001b[0mexist\u001b[0m\u001b[0;34m(\u001b[0m\u001b[0mtable\u001b[0m\u001b[0;34m,\u001b[0m \u001b[0mlibref\u001b[0m\u001b[0;34m)\u001b[0m\u001b[0;34m\u001b[0m\u001b[0;34m\u001b[0m\u001b[0m\n\u001b[0m\u001b[1;32m    931\u001b[0m \u001b[0;34m\u001b[0m\u001b[0m\n\u001b[1;32m    932\u001b[0m     \u001b[0;32mdef\u001b[0m \u001b[0msasets\u001b[0m\u001b[0;34m(\u001b[0m\u001b[0mself\u001b[0m\u001b[0;34m)\u001b[0m \u001b[0;34m->\u001b[0m \u001b[0;34m'SASets'\u001b[0m\u001b[0;34m:\u001b[0m\u001b[0;34m\u001b[0m\u001b[0;34m\u001b[0m\u001b[0m\n",
            "\u001b[0;32m/usr/local/lib/python3.8/dist-packages/saspy/sasioiom.py\u001b[0m in \u001b[0;36mexist\u001b[0;34m(self, table, libref)\u001b[0m\n\u001b[1;32m   1180\u001b[0m       \u001b[0ml2\u001b[0m \u001b[0;34m=\u001b[0m \u001b[0mll\u001b[0m\u001b[0;34m[\u001b[0m\u001b[0;34m'LOG'\u001b[0m\u001b[0;34m]\u001b[0m\u001b[0;34m.\u001b[0m\u001b[0mrpartition\u001b[0m\u001b[0;34m(\u001b[0m\u001b[0;34m\"TABLE_EXISTS= \"\u001b[0m\u001b[0;34m)\u001b[0m\u001b[0;34m\u001b[0m\u001b[0;34m\u001b[0m\u001b[0m\n\u001b[1;32m   1181\u001b[0m       \u001b[0ml2\u001b[0m \u001b[0;34m=\u001b[0m \u001b[0ml2\u001b[0m\u001b[0;34m[\u001b[0m\u001b[0;36m2\u001b[0m\u001b[0;34m]\u001b[0m\u001b[0;34m.\u001b[0m\u001b[0mpartition\u001b[0m\u001b[0;34m(\u001b[0m\u001b[0;34m\"\\n\"\u001b[0m\u001b[0;34m)\u001b[0m\u001b[0;34m\u001b[0m\u001b[0;34m\u001b[0m\u001b[0m\n\u001b[0;32m-> 1182\u001b[0;31m       \u001b[0mexists\u001b[0m \u001b[0;34m=\u001b[0m \u001b[0mint\u001b[0m\u001b[0;34m(\u001b[0m\u001b[0ml2\u001b[0m\u001b[0;34m[\u001b[0m\u001b[0;36m0\u001b[0m\u001b[0;34m]\u001b[0m\u001b[0;34m)\u001b[0m\u001b[0;34m\u001b[0m\u001b[0;34m\u001b[0m\u001b[0m\n\u001b[0m\u001b[1;32m   1183\u001b[0m \u001b[0;34m\u001b[0m\u001b[0m\n\u001b[1;32m   1184\u001b[0m       \u001b[0;32mreturn\u001b[0m \u001b[0mbool\u001b[0m\u001b[0;34m(\u001b[0m\u001b[0mexists\u001b[0m\u001b[0;34m)\u001b[0m\u001b[0;34m\u001b[0m\u001b[0;34m\u001b[0m\u001b[0m\n",
            "\u001b[0;31mValueError\u001b[0m: invalid literal for int() with base 10: 'No SAS process attached. SAS process has terminated unexpectedly.'"
          ]
        }
      ],
      "source": [
        "import pandas as pd\n",
        "\n",
        "#comment: Transform cloud sas dataset to python dataframe(pandas) ==> might take some time.\n",
        "\n",
        "data1 = sas_session.sasdata2dataframe(\n",
        "table='hist',\n",
        "libref='cortex'\n",
        ")\n",
        "\n",
        "data2 = sas_session.sasdata2dataframe(\n",
        "table='target_rd2',\n",
        "libref='cortex'\n",
        ")"
      ]
    },
    {
      "cell_type": "markdown",
      "id": "5d6a7d11-cd31-452e-a62b-b74479b86898",
      "metadata": {
        "id": "5d6a7d11-cd31-452e-a62b-b74479b86898"
      },
      "source": [
        "## Merge the Data"
      ]
    },
    {
      "cell_type": "code",
      "execution_count": null,
      "id": "419ef624",
      "metadata": {
        "collapsed": true,
        "colab": {
          "base_uri": "https://localhost:8080/",
          "height": 240
        },
        "id": "419ef624",
        "outputId": "c07e157c-493e-4ba7-ba4f-d7128e166c51"
      },
      "outputs": [
        {
          "output_type": "execute_result",
          "data": {
            "text/plain": [
              "               ID     LastName FirstName  Woman   Age    Salary  \\\n",
              "304497  2304498.0       RIVERA   MELISSA    1.0  71.0  168200.0   \n",
              "187723  2187724.0  SLINGERLAND      MARK    0.0  77.0   50900.0   \n",
              "\n",
              "                   Education  City  SeniorList  NbActivities  ...  Frequency  \\\n",
              "304497  University / College  City         0.0           0.0  ...        NaN   \n",
              "187723  University / College  City         8.0           2.0  ...        3.0   \n",
              "\n",
              "        Seniority  TotalGift  MinGift  MaxGift  GaveLastYear  AmtLastYear  \\\n",
              "304497        NaN        NaN      NaN      NaN           0.0          0.0   \n",
              "187723        8.0       90.0     20.0     50.0           0.0          0.0   \n",
              "\n",
              "        Contact  GaveThisYear  AmtThisYear  \n",
              "304497      0.0           1.0         75.0  \n",
              "187723      0.0           1.0         40.0  \n",
              "\n",
              "[2 rows x 22 columns]"
            ],
            "text/html": [
              "\n",
              "  <div id=\"df-0fd7ae16-1eb3-4484-8a6c-62a776c86aa2\">\n",
              "    <div class=\"colab-df-container\">\n",
              "      <div>\n",
              "<style scoped>\n",
              "    .dataframe tbody tr th:only-of-type {\n",
              "        vertical-align: middle;\n",
              "    }\n",
              "\n",
              "    .dataframe tbody tr th {\n",
              "        vertical-align: top;\n",
              "    }\n",
              "\n",
              "    .dataframe thead th {\n",
              "        text-align: right;\n",
              "    }\n",
              "</style>\n",
              "<table border=\"1\" class=\"dataframe\">\n",
              "  <thead>\n",
              "    <tr style=\"text-align: right;\">\n",
              "      <th></th>\n",
              "      <th>ID</th>\n",
              "      <th>LastName</th>\n",
              "      <th>FirstName</th>\n",
              "      <th>Woman</th>\n",
              "      <th>Age</th>\n",
              "      <th>Salary</th>\n",
              "      <th>Education</th>\n",
              "      <th>City</th>\n",
              "      <th>SeniorList</th>\n",
              "      <th>NbActivities</th>\n",
              "      <th>...</th>\n",
              "      <th>Frequency</th>\n",
              "      <th>Seniority</th>\n",
              "      <th>TotalGift</th>\n",
              "      <th>MinGift</th>\n",
              "      <th>MaxGift</th>\n",
              "      <th>GaveLastYear</th>\n",
              "      <th>AmtLastYear</th>\n",
              "      <th>Contact</th>\n",
              "      <th>GaveThisYear</th>\n",
              "      <th>AmtThisYear</th>\n",
              "    </tr>\n",
              "  </thead>\n",
              "  <tbody>\n",
              "    <tr>\n",
              "      <th>304497</th>\n",
              "      <td>2304498.0</td>\n",
              "      <td>RIVERA</td>\n",
              "      <td>MELISSA</td>\n",
              "      <td>1.0</td>\n",
              "      <td>71.0</td>\n",
              "      <td>168200.0</td>\n",
              "      <td>University / College</td>\n",
              "      <td>City</td>\n",
              "      <td>0.0</td>\n",
              "      <td>0.0</td>\n",
              "      <td>...</td>\n",
              "      <td>NaN</td>\n",
              "      <td>NaN</td>\n",
              "      <td>NaN</td>\n",
              "      <td>NaN</td>\n",
              "      <td>NaN</td>\n",
              "      <td>0.0</td>\n",
              "      <td>0.0</td>\n",
              "      <td>0.0</td>\n",
              "      <td>1.0</td>\n",
              "      <td>75.0</td>\n",
              "    </tr>\n",
              "    <tr>\n",
              "      <th>187723</th>\n",
              "      <td>2187724.0</td>\n",
              "      <td>SLINGERLAND</td>\n",
              "      <td>MARK</td>\n",
              "      <td>0.0</td>\n",
              "      <td>77.0</td>\n",
              "      <td>50900.0</td>\n",
              "      <td>University / College</td>\n",
              "      <td>City</td>\n",
              "      <td>8.0</td>\n",
              "      <td>2.0</td>\n",
              "      <td>...</td>\n",
              "      <td>3.0</td>\n",
              "      <td>8.0</td>\n",
              "      <td>90.0</td>\n",
              "      <td>20.0</td>\n",
              "      <td>50.0</td>\n",
              "      <td>0.0</td>\n",
              "      <td>0.0</td>\n",
              "      <td>0.0</td>\n",
              "      <td>1.0</td>\n",
              "      <td>40.0</td>\n",
              "    </tr>\n",
              "  </tbody>\n",
              "</table>\n",
              "<p>2 rows × 22 columns</p>\n",
              "</div>\n",
              "      <button class=\"colab-df-convert\" onclick=\"convertToInteractive('df-0fd7ae16-1eb3-4484-8a6c-62a776c86aa2')\"\n",
              "              title=\"Convert this dataframe to an interactive table.\"\n",
              "              style=\"display:none;\">\n",
              "        \n",
              "  <svg xmlns=\"http://www.w3.org/2000/svg\" height=\"24px\"viewBox=\"0 0 24 24\"\n",
              "       width=\"24px\">\n",
              "    <path d=\"M0 0h24v24H0V0z\" fill=\"none\"/>\n",
              "    <path d=\"M18.56 5.44l.94 2.06.94-2.06 2.06-.94-2.06-.94-.94-2.06-.94 2.06-2.06.94zm-11 1L8.5 8.5l.94-2.06 2.06-.94-2.06-.94L8.5 2.5l-.94 2.06-2.06.94zm10 10l.94 2.06.94-2.06 2.06-.94-2.06-.94-.94-2.06-.94 2.06-2.06.94z\"/><path d=\"M17.41 7.96l-1.37-1.37c-.4-.4-.92-.59-1.43-.59-.52 0-1.04.2-1.43.59L10.3 9.45l-7.72 7.72c-.78.78-.78 2.05 0 2.83L4 21.41c.39.39.9.59 1.41.59.51 0 1.02-.2 1.41-.59l7.78-7.78 2.81-2.81c.8-.78.8-2.07 0-2.86zM5.41 20L4 18.59l7.72-7.72 1.47 1.35L5.41 20z\"/>\n",
              "  </svg>\n",
              "      </button>\n",
              "      \n",
              "  <style>\n",
              "    .colab-df-container {\n",
              "      display:flex;\n",
              "      flex-wrap:wrap;\n",
              "      gap: 12px;\n",
              "    }\n",
              "\n",
              "    .colab-df-convert {\n",
              "      background-color: #E8F0FE;\n",
              "      border: none;\n",
              "      border-radius: 50%;\n",
              "      cursor: pointer;\n",
              "      display: none;\n",
              "      fill: #1967D2;\n",
              "      height: 32px;\n",
              "      padding: 0 0 0 0;\n",
              "      width: 32px;\n",
              "    }\n",
              "\n",
              "    .colab-df-convert:hover {\n",
              "      background-color: #E2EBFA;\n",
              "      box-shadow: 0px 1px 2px rgba(60, 64, 67, 0.3), 0px 1px 3px 1px rgba(60, 64, 67, 0.15);\n",
              "      fill: #174EA6;\n",
              "    }\n",
              "\n",
              "    [theme=dark] .colab-df-convert {\n",
              "      background-color: #3B4455;\n",
              "      fill: #D2E3FC;\n",
              "    }\n",
              "\n",
              "    [theme=dark] .colab-df-convert:hover {\n",
              "      background-color: #434B5C;\n",
              "      box-shadow: 0px 1px 3px 1px rgba(0, 0, 0, 0.15);\n",
              "      filter: drop-shadow(0px 1px 2px rgba(0, 0, 0, 0.3));\n",
              "      fill: #FFFFFF;\n",
              "    }\n",
              "  </style>\n",
              "\n",
              "      <script>\n",
              "        const buttonEl =\n",
              "          document.querySelector('#df-0fd7ae16-1eb3-4484-8a6c-62a776c86aa2 button.colab-df-convert');\n",
              "        buttonEl.style.display =\n",
              "          google.colab.kernel.accessAllowed ? 'block' : 'none';\n",
              "\n",
              "        async function convertToInteractive(key) {\n",
              "          const element = document.querySelector('#df-0fd7ae16-1eb3-4484-8a6c-62a776c86aa2');\n",
              "          const dataTable =\n",
              "            await google.colab.kernel.invokeFunction('convertToInteractive',\n",
              "                                                     [key], {});\n",
              "          if (!dataTable) return;\n",
              "\n",
              "          const docLinkHtml = 'Like what you see? Visit the ' +\n",
              "            '<a target=\"_blank\" href=https://colab.research.google.com/notebooks/data_table.ipynb>data table notebook</a>'\n",
              "            + ' to learn more about interactive tables.';\n",
              "          element.innerHTML = '';\n",
              "          dataTable['output_type'] = 'display_data';\n",
              "          await google.colab.output.renderOutput(dataTable, element);\n",
              "          const docLink = document.createElement('div');\n",
              "          docLink.innerHTML = docLinkHtml;\n",
              "          element.appendChild(docLink);\n",
              "        }\n",
              "      </script>\n",
              "    </div>\n",
              "  </div>\n",
              "  "
            ]
          },
          "metadata": {},
          "execution_count": 404
        }
      ],
      "source": [
        "#Step1 Merge the Data\n",
        "data_merge = pd.merge(data1, data2, on=[\"ID\"],how=\"right\")\n",
        "data_merge = data_merge.loc[(data_merge['GaveThisYear'] ==1)]\n",
        "data_merge.sample(2)"
      ]
    },
    {
      "cell_type": "code",
      "source": [
        "data_merge.rename(columns={\"City\": \"Location\"}, inplace = True)\n"
      ],
      "metadata": {
        "colab": {
          "base_uri": "https://localhost:8080/"
        },
        "id": "uf_4PyskciPU",
        "outputId": "0fd88c91-ca8d-42cb-cebc-03b9d04ceab4"
      },
      "id": "uf_4PyskciPU",
      "execution_count": null,
      "outputs": [
        {
          "output_type": "stream",
          "name": "stderr",
          "text": [
            "/usr/local/lib/python3.8/dist-packages/pandas/core/frame.py:5039: SettingWithCopyWarning: \n",
            "A value is trying to be set on a copy of a slice from a DataFrame\n",
            "\n",
            "See the caveats in the documentation: https://pandas.pydata.org/pandas-docs/stable/user_guide/indexing.html#returning-a-view-versus-a-copy\n",
            "  return super().rename(\n"
          ]
        }
      ]
    },
    {
      "cell_type": "code",
      "source": [
        "data_merge.info()"
      ],
      "metadata": {
        "colab": {
          "base_uri": "https://localhost:8080/"
        },
        "id": "hNqRPaI11krw",
        "outputId": "ae5047f3-95d7-4e76-8b5f-8f0f2b736a49"
      },
      "id": "hNqRPaI11krw",
      "execution_count": null,
      "outputs": [
        {
          "output_type": "stream",
          "name": "stdout",
          "text": [
            "<class 'pandas.core.frame.DataFrame'>\n",
            "Int64Index: 149457 entries, 3 to 999998\n",
            "Data columns (total 22 columns):\n",
            " #   Column        Non-Null Count   Dtype  \n",
            "---  ------        --------------   -----  \n",
            " 0   ID            149457 non-null  float64\n",
            " 1   LastName      149454 non-null  object \n",
            " 2   FirstName     149457 non-null  object \n",
            " 3   Woman         149457 non-null  float64\n",
            " 4   Age           149457 non-null  float64\n",
            " 5   Salary        149457 non-null  float64\n",
            " 6   Education     149457 non-null  object \n",
            " 7   Location      149457 non-null  object \n",
            " 8   SeniorList    149457 non-null  float64\n",
            " 9   NbActivities  149457 non-null  float64\n",
            " 10  Referrals     149457 non-null  float64\n",
            " 11  Recency       68433 non-null   float64\n",
            " 12  Frequency     68433 non-null   float64\n",
            " 13  Seniority     68433 non-null   float64\n",
            " 14  TotalGift     68433 non-null   float64\n",
            " 15  MinGift       68433 non-null   float64\n",
            " 16  MaxGift       68433 non-null   float64\n",
            " 17  GaveLastYear  149457 non-null  float64\n",
            " 18  AmtLastYear   149457 non-null  float64\n",
            " 19  Contact       149457 non-null  float64\n",
            " 20  GaveThisYear  149457 non-null  float64\n",
            " 21  AmtThisYear   149457 non-null  float64\n",
            "dtypes: float64(18), object(4)\n",
            "memory usage: 26.2+ MB\n"
          ]
        }
      ]
    },
    {
      "cell_type": "markdown",
      "id": "9b4a77b7-6c92-44e7-a936-284a643edd13",
      "metadata": {
        "id": "9b4a77b7-6c92-44e7-a936-284a643edd13"
      },
      "source": [
        "## Treating Missing Values\n",
        "\n",
        ">Please be aware that deleting all missing values can induce a selection bias. \n",
        "Some missing values are very informative. For example, when MinGift is missing, it means that the donor never gave in the past 10 years (leading to but excluding last year). Instead of deleting this information, replacing it by 0 is more appropriate!\n",
        "\n",
        "> A good understanding of the business case and the data can help you come up with more appropriate strategies to deal with missing values."
      ]
    },
    {
      "cell_type": "code",
      "source": [
        "# In this case, we are replacing MinGift with 0.\n",
        "# You can do the same for what you think is reasonable for dealing with the other variables.\n",
        "data_mergeN = pd.merge(data1, data2, on=[\"ID\"],how=\"right\")\n",
        "\n",
        "import numpy as np\n",
        "\n",
        "data_mergeN = dummies(data_merge, \"Education\")\n",
        "data_mergeN = dummies(data_mergeN, \"Location\")\n",
        "\n",
        "data_mergeN[['Salary']] = data_mergeN[['Salary']].fillna(value=0)  \n",
        "\n",
        "data_mergeN[['Referrals']] = data_mergeN[['Referrals']].fillna(value=0)  \n",
        "\n",
        "data_mergeN[['TotalGift']] = data_mergeN[['TotalGift']].fillna(value=0)  \n",
        "\n",
        "data_mergeN[['MaxGift']] = data_mergeN[['MaxGift']].fillna(value=0)  \n",
        "\n",
        "data_mergeN[['MinGift']] = data_mergeN[['MinGift']].fillna(value=0)  \n",
        "\n",
        "data_mergeN[['AmtLastYear']] = data_mergeN[['AmtLastYear']].fillna(value=0)  \n",
        "data_mergeN[['HistoricDonor']] = data_merge[['Frequency']].notna().astype(int)\n",
        "\n",
        "data_mergeN[['Recency']] = data_mergeN[['Recency']].fillna(value=1000)  \n",
        "\n",
        "def dummies(df, column):\n",
        "  df = pd.concat([df, pd.get_dummies(df[column])], axis = 1)\n",
        "  return df.drop(column, axis=1)\n",
        "\n",
        "\n",
        "\n",
        "data_mergeN['logSalary']= np.log(data_mergeN['Salary'])\n",
        "data_mergeN['logReferrals']= np.log(data_mergeN['Referrals'])\n",
        "data_mergeN['logTotalGift']= np.log(data_mergeN['TotalGift'])\n",
        "data_mergeN['logMaxGift']= np.log(data_mergeN['MaxGift'])\n",
        "data_mergeN['logMinGift']= np.log(data_mergeN['MinGift'])\n",
        "data_mergeN['logAmtLastYear']= np.log(data_mergeN['AmtLastYear'])\n",
        "\n",
        "\n",
        "data_mergeN_sorted = data_mergeN.sort_values('GaveThisYear',ascending=False)\n",
        "data_mergeN_sorted.head(10)\n"
      ],
      "metadata": {
        "id": "x-0FMURX1BBx",
        "colab": {
          "base_uri": "https://localhost:8080/",
          "height": 493
        },
        "outputId": "f31eff68-0fa2-44a1-aa44-c49a1fd7828e"
      },
      "id": "x-0FMURX1BBx",
      "execution_count": null,
      "outputs": [
        {
          "output_type": "stream",
          "name": "stderr",
          "text": [
            "/usr/local/lib/python3.8/dist-packages/pandas/core/arraylike.py:364: RuntimeWarning: divide by zero encountered in log\n",
            "  result = getattr(ufunc, method)(*inputs, **kwargs)\n"
          ]
        },
        {
          "output_type": "execute_result",
          "data": {
            "text/plain": [
              "               ID LastName FirstName  Woman   Age    Salary  SeniorList  \\\n",
              "3       2000004.0      LEE      MARY    1.0  78.0   23700.0         3.0   \n",
              "664861  2664862.0    IVERY   YOLANDA    1.0  86.0   20800.0         4.0   \n",
              "665053  2665054.0  NAVARRO     ANGIE    1.0  26.0  149700.0         7.0   \n",
              "665055  2665056.0   SMYTHE   HERBERT    0.0  76.0   25000.0         0.0   \n",
              "665066  2665067.0  SANCHEZ     LINDA    1.0  47.0  128200.0         3.0   \n",
              "665071  2665072.0       WU    RONALD    0.0  43.0  168200.0         4.0   \n",
              "665080  2665081.0   CURTIS    JUDITH    1.0  40.0   37900.0         8.0   \n",
              "665083  2665084.0  JIMENEZ     ROGER    0.0  68.0   52200.0         0.0   \n",
              "665085  2665086.0    BAKER     BELEN    1.0  37.0   20000.0         0.0   \n",
              "665089  2665090.0     CLAY     LINDA    1.0  71.0   29100.0        10.0   \n",
              "\n",
              "        NbActivities  Referrals  Recency  ...  Downtown  Rural  Suburban  \\\n",
              "3                0.0        0.0   1000.0  ...         0      1         0   \n",
              "664861           1.0        3.0      2.0  ...         0      1         0   \n",
              "665053           3.0        2.0      4.0  ...         0      1         0   \n",
              "665055           0.0        0.0   1000.0  ...         0      1         0   \n",
              "665066           0.0        0.0      2.0  ...         0      0         1   \n",
              "665071           0.0        0.0   1000.0  ...         0      0         0   \n",
              "665080           0.0        1.0   1000.0  ...         1      0         0   \n",
              "665083           0.0        0.0   1000.0  ...         0      0         0   \n",
              "665085           0.0        0.0   1000.0  ...         0      0         0   \n",
              "665089           7.0        1.0      1.0  ...         0      0         1   \n",
              "\n",
              "        HistoricDonor  logSalary  logReferrals  logTotalGift  logMaxGift  \\\n",
              "3                   0  10.073230          -inf          -inf        -inf   \n",
              "664861              1   9.942708      1.098612      2.302585    2.302585   \n",
              "665053              1  11.916389      0.693147      6.593045    6.551080   \n",
              "665055              0  10.126631          -inf          -inf        -inf   \n",
              "665066              1  11.761347          -inf      4.605170    4.605170   \n",
              "665071              0  12.032909          -inf          -inf        -inf   \n",
              "665080              0  10.542706      0.000000          -inf        -inf   \n",
              "665083              0  10.862838          -inf          -inf        -inf   \n",
              "665085              0   9.903488          -inf          -inf        -inf   \n",
              "665089              1  10.278493      0.000000      4.941642    4.317488   \n",
              "\n",
              "        logMinGift  logAmtLastYear  \n",
              "3             -inf            -inf  \n",
              "664861    2.302585            -inf  \n",
              "665053    3.401197            -inf  \n",
              "665055        -inf            -inf  \n",
              "665066    4.605170            -inf  \n",
              "665071        -inf            -inf  \n",
              "665080        -inf            -inf  \n",
              "665083        -inf            -inf  \n",
              "665085        -inf        2.995732  \n",
              "665089    2.302585            -inf  \n",
              "\n",
              "[10 rows x 34 columns]"
            ],
            "text/html": [
              "\n",
              "  <div id=\"df-58c18663-28a3-4650-be4b-09cdd3e7f41a\">\n",
              "    <div class=\"colab-df-container\">\n",
              "      <div>\n",
              "<style scoped>\n",
              "    .dataframe tbody tr th:only-of-type {\n",
              "        vertical-align: middle;\n",
              "    }\n",
              "\n",
              "    .dataframe tbody tr th {\n",
              "        vertical-align: top;\n",
              "    }\n",
              "\n",
              "    .dataframe thead th {\n",
              "        text-align: right;\n",
              "    }\n",
              "</style>\n",
              "<table border=\"1\" class=\"dataframe\">\n",
              "  <thead>\n",
              "    <tr style=\"text-align: right;\">\n",
              "      <th></th>\n",
              "      <th>ID</th>\n",
              "      <th>LastName</th>\n",
              "      <th>FirstName</th>\n",
              "      <th>Woman</th>\n",
              "      <th>Age</th>\n",
              "      <th>Salary</th>\n",
              "      <th>SeniorList</th>\n",
              "      <th>NbActivities</th>\n",
              "      <th>Referrals</th>\n",
              "      <th>Recency</th>\n",
              "      <th>...</th>\n",
              "      <th>Downtown</th>\n",
              "      <th>Rural</th>\n",
              "      <th>Suburban</th>\n",
              "      <th>HistoricDonor</th>\n",
              "      <th>logSalary</th>\n",
              "      <th>logReferrals</th>\n",
              "      <th>logTotalGift</th>\n",
              "      <th>logMaxGift</th>\n",
              "      <th>logMinGift</th>\n",
              "      <th>logAmtLastYear</th>\n",
              "    </tr>\n",
              "  </thead>\n",
              "  <tbody>\n",
              "    <tr>\n",
              "      <th>3</th>\n",
              "      <td>2000004.0</td>\n",
              "      <td>LEE</td>\n",
              "      <td>MARY</td>\n",
              "      <td>1.0</td>\n",
              "      <td>78.0</td>\n",
              "      <td>23700.0</td>\n",
              "      <td>3.0</td>\n",
              "      <td>0.0</td>\n",
              "      <td>0.0</td>\n",
              "      <td>1000.0</td>\n",
              "      <td>...</td>\n",
              "      <td>0</td>\n",
              "      <td>1</td>\n",
              "      <td>0</td>\n",
              "      <td>0</td>\n",
              "      <td>10.073230</td>\n",
              "      <td>-inf</td>\n",
              "      <td>-inf</td>\n",
              "      <td>-inf</td>\n",
              "      <td>-inf</td>\n",
              "      <td>-inf</td>\n",
              "    </tr>\n",
              "    <tr>\n",
              "      <th>664861</th>\n",
              "      <td>2664862.0</td>\n",
              "      <td>IVERY</td>\n",
              "      <td>YOLANDA</td>\n",
              "      <td>1.0</td>\n",
              "      <td>86.0</td>\n",
              "      <td>20800.0</td>\n",
              "      <td>4.0</td>\n",
              "      <td>1.0</td>\n",
              "      <td>3.0</td>\n",
              "      <td>2.0</td>\n",
              "      <td>...</td>\n",
              "      <td>0</td>\n",
              "      <td>1</td>\n",
              "      <td>0</td>\n",
              "      <td>1</td>\n",
              "      <td>9.942708</td>\n",
              "      <td>1.098612</td>\n",
              "      <td>2.302585</td>\n",
              "      <td>2.302585</td>\n",
              "      <td>2.302585</td>\n",
              "      <td>-inf</td>\n",
              "    </tr>\n",
              "    <tr>\n",
              "      <th>665053</th>\n",
              "      <td>2665054.0</td>\n",
              "      <td>NAVARRO</td>\n",
              "      <td>ANGIE</td>\n",
              "      <td>1.0</td>\n",
              "      <td>26.0</td>\n",
              "      <td>149700.0</td>\n",
              "      <td>7.0</td>\n",
              "      <td>3.0</td>\n",
              "      <td>2.0</td>\n",
              "      <td>4.0</td>\n",
              "      <td>...</td>\n",
              "      <td>0</td>\n",
              "      <td>1</td>\n",
              "      <td>0</td>\n",
              "      <td>1</td>\n",
              "      <td>11.916389</td>\n",
              "      <td>0.693147</td>\n",
              "      <td>6.593045</td>\n",
              "      <td>6.551080</td>\n",
              "      <td>3.401197</td>\n",
              "      <td>-inf</td>\n",
              "    </tr>\n",
              "    <tr>\n",
              "      <th>665055</th>\n",
              "      <td>2665056.0</td>\n",
              "      <td>SMYTHE</td>\n",
              "      <td>HERBERT</td>\n",
              "      <td>0.0</td>\n",
              "      <td>76.0</td>\n",
              "      <td>25000.0</td>\n",
              "      <td>0.0</td>\n",
              "      <td>0.0</td>\n",
              "      <td>0.0</td>\n",
              "      <td>1000.0</td>\n",
              "      <td>...</td>\n",
              "      <td>0</td>\n",
              "      <td>1</td>\n",
              "      <td>0</td>\n",
              "      <td>0</td>\n",
              "      <td>10.126631</td>\n",
              "      <td>-inf</td>\n",
              "      <td>-inf</td>\n",
              "      <td>-inf</td>\n",
              "      <td>-inf</td>\n",
              "      <td>-inf</td>\n",
              "    </tr>\n",
              "    <tr>\n",
              "      <th>665066</th>\n",
              "      <td>2665067.0</td>\n",
              "      <td>SANCHEZ</td>\n",
              "      <td>LINDA</td>\n",
              "      <td>1.0</td>\n",
              "      <td>47.0</td>\n",
              "      <td>128200.0</td>\n",
              "      <td>3.0</td>\n",
              "      <td>0.0</td>\n",
              "      <td>0.0</td>\n",
              "      <td>2.0</td>\n",
              "      <td>...</td>\n",
              "      <td>0</td>\n",
              "      <td>0</td>\n",
              "      <td>1</td>\n",
              "      <td>1</td>\n",
              "      <td>11.761347</td>\n",
              "      <td>-inf</td>\n",
              "      <td>4.605170</td>\n",
              "      <td>4.605170</td>\n",
              "      <td>4.605170</td>\n",
              "      <td>-inf</td>\n",
              "    </tr>\n",
              "    <tr>\n",
              "      <th>665071</th>\n",
              "      <td>2665072.0</td>\n",
              "      <td>WU</td>\n",
              "      <td>RONALD</td>\n",
              "      <td>0.0</td>\n",
              "      <td>43.0</td>\n",
              "      <td>168200.0</td>\n",
              "      <td>4.0</td>\n",
              "      <td>0.0</td>\n",
              "      <td>0.0</td>\n",
              "      <td>1000.0</td>\n",
              "      <td>...</td>\n",
              "      <td>0</td>\n",
              "      <td>0</td>\n",
              "      <td>0</td>\n",
              "      <td>0</td>\n",
              "      <td>12.032909</td>\n",
              "      <td>-inf</td>\n",
              "      <td>-inf</td>\n",
              "      <td>-inf</td>\n",
              "      <td>-inf</td>\n",
              "      <td>-inf</td>\n",
              "    </tr>\n",
              "    <tr>\n",
              "      <th>665080</th>\n",
              "      <td>2665081.0</td>\n",
              "      <td>CURTIS</td>\n",
              "      <td>JUDITH</td>\n",
              "      <td>1.0</td>\n",
              "      <td>40.0</td>\n",
              "      <td>37900.0</td>\n",
              "      <td>8.0</td>\n",
              "      <td>0.0</td>\n",
              "      <td>1.0</td>\n",
              "      <td>1000.0</td>\n",
              "      <td>...</td>\n",
              "      <td>1</td>\n",
              "      <td>0</td>\n",
              "      <td>0</td>\n",
              "      <td>0</td>\n",
              "      <td>10.542706</td>\n",
              "      <td>0.000000</td>\n",
              "      <td>-inf</td>\n",
              "      <td>-inf</td>\n",
              "      <td>-inf</td>\n",
              "      <td>-inf</td>\n",
              "    </tr>\n",
              "    <tr>\n",
              "      <th>665083</th>\n",
              "      <td>2665084.0</td>\n",
              "      <td>JIMENEZ</td>\n",
              "      <td>ROGER</td>\n",
              "      <td>0.0</td>\n",
              "      <td>68.0</td>\n",
              "      <td>52200.0</td>\n",
              "      <td>0.0</td>\n",
              "      <td>0.0</td>\n",
              "      <td>0.0</td>\n",
              "      <td>1000.0</td>\n",
              "      <td>...</td>\n",
              "      <td>0</td>\n",
              "      <td>0</td>\n",
              "      <td>0</td>\n",
              "      <td>0</td>\n",
              "      <td>10.862838</td>\n",
              "      <td>-inf</td>\n",
              "      <td>-inf</td>\n",
              "      <td>-inf</td>\n",
              "      <td>-inf</td>\n",
              "      <td>-inf</td>\n",
              "    </tr>\n",
              "    <tr>\n",
              "      <th>665085</th>\n",
              "      <td>2665086.0</td>\n",
              "      <td>BAKER</td>\n",
              "      <td>BELEN</td>\n",
              "      <td>1.0</td>\n",
              "      <td>37.0</td>\n",
              "      <td>20000.0</td>\n",
              "      <td>0.0</td>\n",
              "      <td>0.0</td>\n",
              "      <td>0.0</td>\n",
              "      <td>1000.0</td>\n",
              "      <td>...</td>\n",
              "      <td>0</td>\n",
              "      <td>0</td>\n",
              "      <td>0</td>\n",
              "      <td>0</td>\n",
              "      <td>9.903488</td>\n",
              "      <td>-inf</td>\n",
              "      <td>-inf</td>\n",
              "      <td>-inf</td>\n",
              "      <td>-inf</td>\n",
              "      <td>2.995732</td>\n",
              "    </tr>\n",
              "    <tr>\n",
              "      <th>665089</th>\n",
              "      <td>2665090.0</td>\n",
              "      <td>CLAY</td>\n",
              "      <td>LINDA</td>\n",
              "      <td>1.0</td>\n",
              "      <td>71.0</td>\n",
              "      <td>29100.0</td>\n",
              "      <td>10.0</td>\n",
              "      <td>7.0</td>\n",
              "      <td>1.0</td>\n",
              "      <td>1.0</td>\n",
              "      <td>...</td>\n",
              "      <td>0</td>\n",
              "      <td>0</td>\n",
              "      <td>1</td>\n",
              "      <td>1</td>\n",
              "      <td>10.278493</td>\n",
              "      <td>0.000000</td>\n",
              "      <td>4.941642</td>\n",
              "      <td>4.317488</td>\n",
              "      <td>2.302585</td>\n",
              "      <td>-inf</td>\n",
              "    </tr>\n",
              "  </tbody>\n",
              "</table>\n",
              "<p>10 rows × 34 columns</p>\n",
              "</div>\n",
              "      <button class=\"colab-df-convert\" onclick=\"convertToInteractive('df-58c18663-28a3-4650-be4b-09cdd3e7f41a')\"\n",
              "              title=\"Convert this dataframe to an interactive table.\"\n",
              "              style=\"display:none;\">\n",
              "        \n",
              "  <svg xmlns=\"http://www.w3.org/2000/svg\" height=\"24px\"viewBox=\"0 0 24 24\"\n",
              "       width=\"24px\">\n",
              "    <path d=\"M0 0h24v24H0V0z\" fill=\"none\"/>\n",
              "    <path d=\"M18.56 5.44l.94 2.06.94-2.06 2.06-.94-2.06-.94-.94-2.06-.94 2.06-2.06.94zm-11 1L8.5 8.5l.94-2.06 2.06-.94-2.06-.94L8.5 2.5l-.94 2.06-2.06.94zm10 10l.94 2.06.94-2.06 2.06-.94-2.06-.94-.94-2.06-.94 2.06-2.06.94z\"/><path d=\"M17.41 7.96l-1.37-1.37c-.4-.4-.92-.59-1.43-.59-.52 0-1.04.2-1.43.59L10.3 9.45l-7.72 7.72c-.78.78-.78 2.05 0 2.83L4 21.41c.39.39.9.59 1.41.59.51 0 1.02-.2 1.41-.59l7.78-7.78 2.81-2.81c.8-.78.8-2.07 0-2.86zM5.41 20L4 18.59l7.72-7.72 1.47 1.35L5.41 20z\"/>\n",
              "  </svg>\n",
              "      </button>\n",
              "      \n",
              "  <style>\n",
              "    .colab-df-container {\n",
              "      display:flex;\n",
              "      flex-wrap:wrap;\n",
              "      gap: 12px;\n",
              "    }\n",
              "\n",
              "    .colab-df-convert {\n",
              "      background-color: #E8F0FE;\n",
              "      border: none;\n",
              "      border-radius: 50%;\n",
              "      cursor: pointer;\n",
              "      display: none;\n",
              "      fill: #1967D2;\n",
              "      height: 32px;\n",
              "      padding: 0 0 0 0;\n",
              "      width: 32px;\n",
              "    }\n",
              "\n",
              "    .colab-df-convert:hover {\n",
              "      background-color: #E2EBFA;\n",
              "      box-shadow: 0px 1px 2px rgba(60, 64, 67, 0.3), 0px 1px 3px 1px rgba(60, 64, 67, 0.15);\n",
              "      fill: #174EA6;\n",
              "    }\n",
              "\n",
              "    [theme=dark] .colab-df-convert {\n",
              "      background-color: #3B4455;\n",
              "      fill: #D2E3FC;\n",
              "    }\n",
              "\n",
              "    [theme=dark] .colab-df-convert:hover {\n",
              "      background-color: #434B5C;\n",
              "      box-shadow: 0px 1px 3px 1px rgba(0, 0, 0, 0.15);\n",
              "      filter: drop-shadow(0px 1px 2px rgba(0, 0, 0, 0.3));\n",
              "      fill: #FFFFFF;\n",
              "    }\n",
              "  </style>\n",
              "\n",
              "      <script>\n",
              "        const buttonEl =\n",
              "          document.querySelector('#df-58c18663-28a3-4650-be4b-09cdd3e7f41a button.colab-df-convert');\n",
              "        buttonEl.style.display =\n",
              "          google.colab.kernel.accessAllowed ? 'block' : 'none';\n",
              "\n",
              "        async function convertToInteractive(key) {\n",
              "          const element = document.querySelector('#df-58c18663-28a3-4650-be4b-09cdd3e7f41a');\n",
              "          const dataTable =\n",
              "            await google.colab.kernel.invokeFunction('convertToInteractive',\n",
              "                                                     [key], {});\n",
              "          if (!dataTable) return;\n",
              "\n",
              "          const docLinkHtml = 'Like what you see? Visit the ' +\n",
              "            '<a target=\"_blank\" href=https://colab.research.google.com/notebooks/data_table.ipynb>data table notebook</a>'\n",
              "            + ' to learn more about interactive tables.';\n",
              "          element.innerHTML = '';\n",
              "          dataTable['output_type'] = 'display_data';\n",
              "          await google.colab.output.renderOutput(dataTable, element);\n",
              "          const docLink = document.createElement('div');\n",
              "          docLink.innerHTML = docLinkHtml;\n",
              "          element.appendChild(docLink);\n",
              "        }\n",
              "      </script>\n",
              "    </div>\n",
              "  </div>\n",
              "  "
            ]
          },
          "metadata": {},
          "execution_count": 407
        }
      ]
    },
    {
      "cell_type": "code",
      "source": [
        "data_mergeN_sorted.loc[data_mergeN_sorted['logSalary'] < 1, 'logSalary'] = 0\n",
        "data_mergeN_sorted.loc[data_mergeN_sorted['logReferrals'] < 1, 'logReferrals'] = 0\n",
        "data_mergeN_sorted.loc[data_mergeN_sorted['logTotalGift'] < 1, 'logTotalGift'] = 0\n",
        "data_mergeN_sorted.loc[data_mergeN_sorted['logTotalGift'] < 1, 'logTotalGift'] = 0\n",
        "data_mergeN_sorted.loc[data_mergeN_sorted['logMaxGift'] < 1, 'logMaxGift'] = 0\n",
        "data_mergeN_sorted.loc[data_mergeN_sorted['logMinGift'] < 1, 'logMinGift'] = 0\n",
        "data_mergeN_sorted.loc[data_mergeN_sorted['logAmtLastYear'] < 1, 'logAmtLastYear'] = 0\n",
        "data_mergeN_sorted.rename(columns={\"City\": \"Location\"}, inplace = True)\n",
        "\n",
        "\n",
        "data_mergeN_sorted\n"
      ],
      "metadata": {
        "colab": {
          "base_uri": "https://localhost:8080/",
          "height": 488
        },
        "id": "FiQRlBNMFg4k",
        "outputId": "978a0105-b0b0-4f92-8ee6-cf75e979bbb1"
      },
      "id": "FiQRlBNMFg4k",
      "execution_count": null,
      "outputs": [
        {
          "output_type": "execute_result",
          "data": {
            "text/plain": [
              "               ID LastName    FirstName  Woman   Age    Salary  SeniorList  \\\n",
              "3       2000004.0      LEE         MARY    1.0  78.0   23700.0         3.0   \n",
              "664861  2664862.0    IVERY      YOLANDA    1.0  86.0   20800.0         4.0   \n",
              "665053  2665054.0  NAVARRO        ANGIE    1.0  26.0  149700.0         7.0   \n",
              "665055  2665056.0   SMYTHE      HERBERT    0.0  76.0   25000.0         0.0   \n",
              "665066  2665067.0  SANCHEZ        LINDA    1.0  47.0  128200.0         3.0   \n",
              "...           ...      ...          ...    ...   ...       ...         ...   \n",
              "332468  2332469.0  AGUDELO        NANCY    1.0  71.0   14100.0         5.0   \n",
              "332471  2332472.0   CONNOR      SHANNON    1.0  87.0   46800.0         5.0   \n",
              "332485  2332486.0   NELSON       GEORGE    0.0  29.0   47300.0         3.0   \n",
              "332491  2332492.0   BUDROW  CHRISTOPHER    0.0  24.0   12300.0         2.0   \n",
              "999998  2999999.0  LIBERTI       PAMELA    1.0  32.0   43900.0         0.0   \n",
              "\n",
              "        NbActivities  Referrals  Recency  ...  Downtown  Rural  Suburban  \\\n",
              "3                0.0        0.0   1000.0  ...         0      1         0   \n",
              "664861           1.0        3.0      2.0  ...         0      1         0   \n",
              "665053           3.0        2.0      4.0  ...         0      1         0   \n",
              "665055           0.0        0.0   1000.0  ...         0      1         0   \n",
              "665066           0.0        0.0      2.0  ...         0      0         1   \n",
              "...              ...        ...      ...  ...       ...    ...       ...   \n",
              "332468           0.0        1.0   1000.0  ...         0      0         0   \n",
              "332471           0.0        0.0      1.0  ...         0      0         1   \n",
              "332485           0.0        1.0   1000.0  ...         0      0         1   \n",
              "332491           1.0        0.0   1000.0  ...         0      0         1   \n",
              "999998           0.0        0.0   1000.0  ...         0      1         0   \n",
              "\n",
              "        HistoricDonor  logSalary  logReferrals  logTotalGift  logMaxGift  \\\n",
              "3                   0  10.073230      0.000000      0.000000    0.000000   \n",
              "664861              1   9.942708      1.098612      2.302585    2.302585   \n",
              "665053              1  11.916389      0.000000      6.593045    6.551080   \n",
              "665055              0  10.126631      0.000000      0.000000    0.000000   \n",
              "665066              1  11.761347      0.000000      4.605170    4.605170   \n",
              "...               ...        ...           ...           ...         ...   \n",
              "332468              0   9.553930      0.000000      0.000000    0.000000   \n",
              "332471              1  10.753638      0.000000      3.218876    3.218876   \n",
              "332485              0  10.764266      0.000000      0.000000    0.000000   \n",
              "332491              0   9.417355      0.000000      0.000000    0.000000   \n",
              "999998              0  10.689670      0.000000      0.000000    0.000000   \n",
              "\n",
              "        logMinGift  logAmtLastYear  \n",
              "3         0.000000             0.0  \n",
              "664861    2.302585             0.0  \n",
              "665053    3.401197             0.0  \n",
              "665055    0.000000             0.0  \n",
              "665066    4.605170             0.0  \n",
              "...            ...             ...  \n",
              "332468    0.000000             0.0  \n",
              "332471    3.218876             0.0  \n",
              "332485    0.000000             0.0  \n",
              "332491    0.000000             0.0  \n",
              "999998    0.000000             0.0  \n",
              "\n",
              "[149457 rows x 34 columns]"
            ],
            "text/html": [
              "\n",
              "  <div id=\"df-ef8377b6-e7d2-44eb-91e7-f85c7c3b9c41\">\n",
              "    <div class=\"colab-df-container\">\n",
              "      <div>\n",
              "<style scoped>\n",
              "    .dataframe tbody tr th:only-of-type {\n",
              "        vertical-align: middle;\n",
              "    }\n",
              "\n",
              "    .dataframe tbody tr th {\n",
              "        vertical-align: top;\n",
              "    }\n",
              "\n",
              "    .dataframe thead th {\n",
              "        text-align: right;\n",
              "    }\n",
              "</style>\n",
              "<table border=\"1\" class=\"dataframe\">\n",
              "  <thead>\n",
              "    <tr style=\"text-align: right;\">\n",
              "      <th></th>\n",
              "      <th>ID</th>\n",
              "      <th>LastName</th>\n",
              "      <th>FirstName</th>\n",
              "      <th>Woman</th>\n",
              "      <th>Age</th>\n",
              "      <th>Salary</th>\n",
              "      <th>SeniorList</th>\n",
              "      <th>NbActivities</th>\n",
              "      <th>Referrals</th>\n",
              "      <th>Recency</th>\n",
              "      <th>...</th>\n",
              "      <th>Downtown</th>\n",
              "      <th>Rural</th>\n",
              "      <th>Suburban</th>\n",
              "      <th>HistoricDonor</th>\n",
              "      <th>logSalary</th>\n",
              "      <th>logReferrals</th>\n",
              "      <th>logTotalGift</th>\n",
              "      <th>logMaxGift</th>\n",
              "      <th>logMinGift</th>\n",
              "      <th>logAmtLastYear</th>\n",
              "    </tr>\n",
              "  </thead>\n",
              "  <tbody>\n",
              "    <tr>\n",
              "      <th>3</th>\n",
              "      <td>2000004.0</td>\n",
              "      <td>LEE</td>\n",
              "      <td>MARY</td>\n",
              "      <td>1.0</td>\n",
              "      <td>78.0</td>\n",
              "      <td>23700.0</td>\n",
              "      <td>3.0</td>\n",
              "      <td>0.0</td>\n",
              "      <td>0.0</td>\n",
              "      <td>1000.0</td>\n",
              "      <td>...</td>\n",
              "      <td>0</td>\n",
              "      <td>1</td>\n",
              "      <td>0</td>\n",
              "      <td>0</td>\n",
              "      <td>10.073230</td>\n",
              "      <td>0.000000</td>\n",
              "      <td>0.000000</td>\n",
              "      <td>0.000000</td>\n",
              "      <td>0.000000</td>\n",
              "      <td>0.0</td>\n",
              "    </tr>\n",
              "    <tr>\n",
              "      <th>664861</th>\n",
              "      <td>2664862.0</td>\n",
              "      <td>IVERY</td>\n",
              "      <td>YOLANDA</td>\n",
              "      <td>1.0</td>\n",
              "      <td>86.0</td>\n",
              "      <td>20800.0</td>\n",
              "      <td>4.0</td>\n",
              "      <td>1.0</td>\n",
              "      <td>3.0</td>\n",
              "      <td>2.0</td>\n",
              "      <td>...</td>\n",
              "      <td>0</td>\n",
              "      <td>1</td>\n",
              "      <td>0</td>\n",
              "      <td>1</td>\n",
              "      <td>9.942708</td>\n",
              "      <td>1.098612</td>\n",
              "      <td>2.302585</td>\n",
              "      <td>2.302585</td>\n",
              "      <td>2.302585</td>\n",
              "      <td>0.0</td>\n",
              "    </tr>\n",
              "    <tr>\n",
              "      <th>665053</th>\n",
              "      <td>2665054.0</td>\n",
              "      <td>NAVARRO</td>\n",
              "      <td>ANGIE</td>\n",
              "      <td>1.0</td>\n",
              "      <td>26.0</td>\n",
              "      <td>149700.0</td>\n",
              "      <td>7.0</td>\n",
              "      <td>3.0</td>\n",
              "      <td>2.0</td>\n",
              "      <td>4.0</td>\n",
              "      <td>...</td>\n",
              "      <td>0</td>\n",
              "      <td>1</td>\n",
              "      <td>0</td>\n",
              "      <td>1</td>\n",
              "      <td>11.916389</td>\n",
              "      <td>0.000000</td>\n",
              "      <td>6.593045</td>\n",
              "      <td>6.551080</td>\n",
              "      <td>3.401197</td>\n",
              "      <td>0.0</td>\n",
              "    </tr>\n",
              "    <tr>\n",
              "      <th>665055</th>\n",
              "      <td>2665056.0</td>\n",
              "      <td>SMYTHE</td>\n",
              "      <td>HERBERT</td>\n",
              "      <td>0.0</td>\n",
              "      <td>76.0</td>\n",
              "      <td>25000.0</td>\n",
              "      <td>0.0</td>\n",
              "      <td>0.0</td>\n",
              "      <td>0.0</td>\n",
              "      <td>1000.0</td>\n",
              "      <td>...</td>\n",
              "      <td>0</td>\n",
              "      <td>1</td>\n",
              "      <td>0</td>\n",
              "      <td>0</td>\n",
              "      <td>10.126631</td>\n",
              "      <td>0.000000</td>\n",
              "      <td>0.000000</td>\n",
              "      <td>0.000000</td>\n",
              "      <td>0.000000</td>\n",
              "      <td>0.0</td>\n",
              "    </tr>\n",
              "    <tr>\n",
              "      <th>665066</th>\n",
              "      <td>2665067.0</td>\n",
              "      <td>SANCHEZ</td>\n",
              "      <td>LINDA</td>\n",
              "      <td>1.0</td>\n",
              "      <td>47.0</td>\n",
              "      <td>128200.0</td>\n",
              "      <td>3.0</td>\n",
              "      <td>0.0</td>\n",
              "      <td>0.0</td>\n",
              "      <td>2.0</td>\n",
              "      <td>...</td>\n",
              "      <td>0</td>\n",
              "      <td>0</td>\n",
              "      <td>1</td>\n",
              "      <td>1</td>\n",
              "      <td>11.761347</td>\n",
              "      <td>0.000000</td>\n",
              "      <td>4.605170</td>\n",
              "      <td>4.605170</td>\n",
              "      <td>4.605170</td>\n",
              "      <td>0.0</td>\n",
              "    </tr>\n",
              "    <tr>\n",
              "      <th>...</th>\n",
              "      <td>...</td>\n",
              "      <td>...</td>\n",
              "      <td>...</td>\n",
              "      <td>...</td>\n",
              "      <td>...</td>\n",
              "      <td>...</td>\n",
              "      <td>...</td>\n",
              "      <td>...</td>\n",
              "      <td>...</td>\n",
              "      <td>...</td>\n",
              "      <td>...</td>\n",
              "      <td>...</td>\n",
              "      <td>...</td>\n",
              "      <td>...</td>\n",
              "      <td>...</td>\n",
              "      <td>...</td>\n",
              "      <td>...</td>\n",
              "      <td>...</td>\n",
              "      <td>...</td>\n",
              "      <td>...</td>\n",
              "      <td>...</td>\n",
              "    </tr>\n",
              "    <tr>\n",
              "      <th>332468</th>\n",
              "      <td>2332469.0</td>\n",
              "      <td>AGUDELO</td>\n",
              "      <td>NANCY</td>\n",
              "      <td>1.0</td>\n",
              "      <td>71.0</td>\n",
              "      <td>14100.0</td>\n",
              "      <td>5.0</td>\n",
              "      <td>0.0</td>\n",
              "      <td>1.0</td>\n",
              "      <td>1000.0</td>\n",
              "      <td>...</td>\n",
              "      <td>0</td>\n",
              "      <td>0</td>\n",
              "      <td>0</td>\n",
              "      <td>0</td>\n",
              "      <td>9.553930</td>\n",
              "      <td>0.000000</td>\n",
              "      <td>0.000000</td>\n",
              "      <td>0.000000</td>\n",
              "      <td>0.000000</td>\n",
              "      <td>0.0</td>\n",
              "    </tr>\n",
              "    <tr>\n",
              "      <th>332471</th>\n",
              "      <td>2332472.0</td>\n",
              "      <td>CONNOR</td>\n",
              "      <td>SHANNON</td>\n",
              "      <td>1.0</td>\n",
              "      <td>87.0</td>\n",
              "      <td>46800.0</td>\n",
              "      <td>5.0</td>\n",
              "      <td>0.0</td>\n",
              "      <td>0.0</td>\n",
              "      <td>1.0</td>\n",
              "      <td>...</td>\n",
              "      <td>0</td>\n",
              "      <td>0</td>\n",
              "      <td>1</td>\n",
              "      <td>1</td>\n",
              "      <td>10.753638</td>\n",
              "      <td>0.000000</td>\n",
              "      <td>3.218876</td>\n",
              "      <td>3.218876</td>\n",
              "      <td>3.218876</td>\n",
              "      <td>0.0</td>\n",
              "    </tr>\n",
              "    <tr>\n",
              "      <th>332485</th>\n",
              "      <td>2332486.0</td>\n",
              "      <td>NELSON</td>\n",
              "      <td>GEORGE</td>\n",
              "      <td>0.0</td>\n",
              "      <td>29.0</td>\n",
              "      <td>47300.0</td>\n",
              "      <td>3.0</td>\n",
              "      <td>0.0</td>\n",
              "      <td>1.0</td>\n",
              "      <td>1000.0</td>\n",
              "      <td>...</td>\n",
              "      <td>0</td>\n",
              "      <td>0</td>\n",
              "      <td>1</td>\n",
              "      <td>0</td>\n",
              "      <td>10.764266</td>\n",
              "      <td>0.000000</td>\n",
              "      <td>0.000000</td>\n",
              "      <td>0.000000</td>\n",
              "      <td>0.000000</td>\n",
              "      <td>0.0</td>\n",
              "    </tr>\n",
              "    <tr>\n",
              "      <th>332491</th>\n",
              "      <td>2332492.0</td>\n",
              "      <td>BUDROW</td>\n",
              "      <td>CHRISTOPHER</td>\n",
              "      <td>0.0</td>\n",
              "      <td>24.0</td>\n",
              "      <td>12300.0</td>\n",
              "      <td>2.0</td>\n",
              "      <td>1.0</td>\n",
              "      <td>0.0</td>\n",
              "      <td>1000.0</td>\n",
              "      <td>...</td>\n",
              "      <td>0</td>\n",
              "      <td>0</td>\n",
              "      <td>1</td>\n",
              "      <td>0</td>\n",
              "      <td>9.417355</td>\n",
              "      <td>0.000000</td>\n",
              "      <td>0.000000</td>\n",
              "      <td>0.000000</td>\n",
              "      <td>0.000000</td>\n",
              "      <td>0.0</td>\n",
              "    </tr>\n",
              "    <tr>\n",
              "      <th>999998</th>\n",
              "      <td>2999999.0</td>\n",
              "      <td>LIBERTI</td>\n",
              "      <td>PAMELA</td>\n",
              "      <td>1.0</td>\n",
              "      <td>32.0</td>\n",
              "      <td>43900.0</td>\n",
              "      <td>0.0</td>\n",
              "      <td>0.0</td>\n",
              "      <td>0.0</td>\n",
              "      <td>1000.0</td>\n",
              "      <td>...</td>\n",
              "      <td>0</td>\n",
              "      <td>1</td>\n",
              "      <td>0</td>\n",
              "      <td>0</td>\n",
              "      <td>10.689670</td>\n",
              "      <td>0.000000</td>\n",
              "      <td>0.000000</td>\n",
              "      <td>0.000000</td>\n",
              "      <td>0.000000</td>\n",
              "      <td>0.0</td>\n",
              "    </tr>\n",
              "  </tbody>\n",
              "</table>\n",
              "<p>149457 rows × 34 columns</p>\n",
              "</div>\n",
              "      <button class=\"colab-df-convert\" onclick=\"convertToInteractive('df-ef8377b6-e7d2-44eb-91e7-f85c7c3b9c41')\"\n",
              "              title=\"Convert this dataframe to an interactive table.\"\n",
              "              style=\"display:none;\">\n",
              "        \n",
              "  <svg xmlns=\"http://www.w3.org/2000/svg\" height=\"24px\"viewBox=\"0 0 24 24\"\n",
              "       width=\"24px\">\n",
              "    <path d=\"M0 0h24v24H0V0z\" fill=\"none\"/>\n",
              "    <path d=\"M18.56 5.44l.94 2.06.94-2.06 2.06-.94-2.06-.94-.94-2.06-.94 2.06-2.06.94zm-11 1L8.5 8.5l.94-2.06 2.06-.94-2.06-.94L8.5 2.5l-.94 2.06-2.06.94zm10 10l.94 2.06.94-2.06 2.06-.94-2.06-.94-.94-2.06-.94 2.06-2.06.94z\"/><path d=\"M17.41 7.96l-1.37-1.37c-.4-.4-.92-.59-1.43-.59-.52 0-1.04.2-1.43.59L10.3 9.45l-7.72 7.72c-.78.78-.78 2.05 0 2.83L4 21.41c.39.39.9.59 1.41.59.51 0 1.02-.2 1.41-.59l7.78-7.78 2.81-2.81c.8-.78.8-2.07 0-2.86zM5.41 20L4 18.59l7.72-7.72 1.47 1.35L5.41 20z\"/>\n",
              "  </svg>\n",
              "      </button>\n",
              "      \n",
              "  <style>\n",
              "    .colab-df-container {\n",
              "      display:flex;\n",
              "      flex-wrap:wrap;\n",
              "      gap: 12px;\n",
              "    }\n",
              "\n",
              "    .colab-df-convert {\n",
              "      background-color: #E8F0FE;\n",
              "      border: none;\n",
              "      border-radius: 50%;\n",
              "      cursor: pointer;\n",
              "      display: none;\n",
              "      fill: #1967D2;\n",
              "      height: 32px;\n",
              "      padding: 0 0 0 0;\n",
              "      width: 32px;\n",
              "    }\n",
              "\n",
              "    .colab-df-convert:hover {\n",
              "      background-color: #E2EBFA;\n",
              "      box-shadow: 0px 1px 2px rgba(60, 64, 67, 0.3), 0px 1px 3px 1px rgba(60, 64, 67, 0.15);\n",
              "      fill: #174EA6;\n",
              "    }\n",
              "\n",
              "    [theme=dark] .colab-df-convert {\n",
              "      background-color: #3B4455;\n",
              "      fill: #D2E3FC;\n",
              "    }\n",
              "\n",
              "    [theme=dark] .colab-df-convert:hover {\n",
              "      background-color: #434B5C;\n",
              "      box-shadow: 0px 1px 3px 1px rgba(0, 0, 0, 0.15);\n",
              "      filter: drop-shadow(0px 1px 2px rgba(0, 0, 0, 0.3));\n",
              "      fill: #FFFFFF;\n",
              "    }\n",
              "  </style>\n",
              "\n",
              "      <script>\n",
              "        const buttonEl =\n",
              "          document.querySelector('#df-ef8377b6-e7d2-44eb-91e7-f85c7c3b9c41 button.colab-df-convert');\n",
              "        buttonEl.style.display =\n",
              "          google.colab.kernel.accessAllowed ? 'block' : 'none';\n",
              "\n",
              "        async function convertToInteractive(key) {\n",
              "          const element = document.querySelector('#df-ef8377b6-e7d2-44eb-91e7-f85c7c3b9c41');\n",
              "          const dataTable =\n",
              "            await google.colab.kernel.invokeFunction('convertToInteractive',\n",
              "                                                     [key], {});\n",
              "          if (!dataTable) return;\n",
              "\n",
              "          const docLinkHtml = 'Like what you see? Visit the ' +\n",
              "            '<a target=\"_blank\" href=https://colab.research.google.com/notebooks/data_table.ipynb>data table notebook</a>'\n",
              "            + ' to learn more about interactive tables.';\n",
              "          element.innerHTML = '';\n",
              "          dataTable['output_type'] = 'display_data';\n",
              "          await google.colab.output.renderOutput(dataTable, element);\n",
              "          const docLink = document.createElement('div');\n",
              "          docLink.innerHTML = docLinkHtml;\n",
              "          element.appendChild(docLink);\n",
              "        }\n",
              "      </script>\n",
              "    </div>\n",
              "  </div>\n",
              "  "
            ]
          },
          "metadata": {},
          "execution_count": 408
        }
      ]
    },
    {
      "cell_type": "markdown",
      "id": "1137c438-65da-4f16-94b8-dee2f83e3abe",
      "metadata": {
        "id": "1137c438-65da-4f16-94b8-dee2f83e3abe"
      },
      "source": [
        "## Data Partition"
      ]
    },
    {
      "cell_type": "code",
      "execution_count": null,
      "id": "4f0675fa-f72b-4786-bce4-0cee646d258a",
      "metadata": {
        "collapsed": true,
        "colab": {
          "base_uri": "https://localhost:8080/",
          "height": 205
        },
        "id": "4f0675fa-f72b-4786-bce4-0cee646d258a",
        "outputId": "4fd243d1-4e85-4647-ba55-d63aeb2e5793"
      },
      "outputs": [
        {
          "output_type": "execute_result",
          "data": {
            "text/plain": [
              "               ID  LastName FirstName  Woman   Age   Salary  SeniorList  \\\n",
              "593329  2593330.0  MITCHELL  ROSEMARY    1.0  32.0  32700.0         8.0   \n",
              "451369  2451370.0     LOZZI    JOSEPH    0.0  25.0  23900.0         0.0   \n",
              "\n",
              "        NbActivities  Referrals  Recency  ...  Downtown  Rural  Suburban  \\\n",
              "593329           3.0        0.0      7.0  ...         0      0         0   \n",
              "451369           0.0        0.0   1000.0  ...         0      0         0   \n",
              "\n",
              "        HistoricDonor  logSalary  logReferrals  logTotalGift  logMaxGift  \\\n",
              "593329              1  10.395130           0.0      3.912023    3.912023   \n",
              "451369              0  10.081634           0.0      0.000000    0.000000   \n",
              "\n",
              "        logMinGift  logAmtLastYear  \n",
              "593329    3.912023             0.0  \n",
              "451369    0.000000             0.0  \n",
              "\n",
              "[2 rows x 34 columns]"
            ],
            "text/html": [
              "\n",
              "  <div id=\"df-99716dc9-bba6-4fb2-90ca-10b39d094ab9\">\n",
              "    <div class=\"colab-df-container\">\n",
              "      <div>\n",
              "<style scoped>\n",
              "    .dataframe tbody tr th:only-of-type {\n",
              "        vertical-align: middle;\n",
              "    }\n",
              "\n",
              "    .dataframe tbody tr th {\n",
              "        vertical-align: top;\n",
              "    }\n",
              "\n",
              "    .dataframe thead th {\n",
              "        text-align: right;\n",
              "    }\n",
              "</style>\n",
              "<table border=\"1\" class=\"dataframe\">\n",
              "  <thead>\n",
              "    <tr style=\"text-align: right;\">\n",
              "      <th></th>\n",
              "      <th>ID</th>\n",
              "      <th>LastName</th>\n",
              "      <th>FirstName</th>\n",
              "      <th>Woman</th>\n",
              "      <th>Age</th>\n",
              "      <th>Salary</th>\n",
              "      <th>SeniorList</th>\n",
              "      <th>NbActivities</th>\n",
              "      <th>Referrals</th>\n",
              "      <th>Recency</th>\n",
              "      <th>...</th>\n",
              "      <th>Downtown</th>\n",
              "      <th>Rural</th>\n",
              "      <th>Suburban</th>\n",
              "      <th>HistoricDonor</th>\n",
              "      <th>logSalary</th>\n",
              "      <th>logReferrals</th>\n",
              "      <th>logTotalGift</th>\n",
              "      <th>logMaxGift</th>\n",
              "      <th>logMinGift</th>\n",
              "      <th>logAmtLastYear</th>\n",
              "    </tr>\n",
              "  </thead>\n",
              "  <tbody>\n",
              "    <tr>\n",
              "      <th>593329</th>\n",
              "      <td>2593330.0</td>\n",
              "      <td>MITCHELL</td>\n",
              "      <td>ROSEMARY</td>\n",
              "      <td>1.0</td>\n",
              "      <td>32.0</td>\n",
              "      <td>32700.0</td>\n",
              "      <td>8.0</td>\n",
              "      <td>3.0</td>\n",
              "      <td>0.0</td>\n",
              "      <td>7.0</td>\n",
              "      <td>...</td>\n",
              "      <td>0</td>\n",
              "      <td>0</td>\n",
              "      <td>0</td>\n",
              "      <td>1</td>\n",
              "      <td>10.395130</td>\n",
              "      <td>0.0</td>\n",
              "      <td>3.912023</td>\n",
              "      <td>3.912023</td>\n",
              "      <td>3.912023</td>\n",
              "      <td>0.0</td>\n",
              "    </tr>\n",
              "    <tr>\n",
              "      <th>451369</th>\n",
              "      <td>2451370.0</td>\n",
              "      <td>LOZZI</td>\n",
              "      <td>JOSEPH</td>\n",
              "      <td>0.0</td>\n",
              "      <td>25.0</td>\n",
              "      <td>23900.0</td>\n",
              "      <td>0.0</td>\n",
              "      <td>0.0</td>\n",
              "      <td>0.0</td>\n",
              "      <td>1000.0</td>\n",
              "      <td>...</td>\n",
              "      <td>0</td>\n",
              "      <td>0</td>\n",
              "      <td>0</td>\n",
              "      <td>0</td>\n",
              "      <td>10.081634</td>\n",
              "      <td>0.0</td>\n",
              "      <td>0.000000</td>\n",
              "      <td>0.000000</td>\n",
              "      <td>0.000000</td>\n",
              "      <td>0.0</td>\n",
              "    </tr>\n",
              "  </tbody>\n",
              "</table>\n",
              "<p>2 rows × 34 columns</p>\n",
              "</div>\n",
              "      <button class=\"colab-df-convert\" onclick=\"convertToInteractive('df-99716dc9-bba6-4fb2-90ca-10b39d094ab9')\"\n",
              "              title=\"Convert this dataframe to an interactive table.\"\n",
              "              style=\"display:none;\">\n",
              "        \n",
              "  <svg xmlns=\"http://www.w3.org/2000/svg\" height=\"24px\"viewBox=\"0 0 24 24\"\n",
              "       width=\"24px\">\n",
              "    <path d=\"M0 0h24v24H0V0z\" fill=\"none\"/>\n",
              "    <path d=\"M18.56 5.44l.94 2.06.94-2.06 2.06-.94-2.06-.94-.94-2.06-.94 2.06-2.06.94zm-11 1L8.5 8.5l.94-2.06 2.06-.94-2.06-.94L8.5 2.5l-.94 2.06-2.06.94zm10 10l.94 2.06.94-2.06 2.06-.94-2.06-.94-.94-2.06-.94 2.06-2.06.94z\"/><path d=\"M17.41 7.96l-1.37-1.37c-.4-.4-.92-.59-1.43-.59-.52 0-1.04.2-1.43.59L10.3 9.45l-7.72 7.72c-.78.78-.78 2.05 0 2.83L4 21.41c.39.39.9.59 1.41.59.51 0 1.02-.2 1.41-.59l7.78-7.78 2.81-2.81c.8-.78.8-2.07 0-2.86zM5.41 20L4 18.59l7.72-7.72 1.47 1.35L5.41 20z\"/>\n",
              "  </svg>\n",
              "      </button>\n",
              "      \n",
              "  <style>\n",
              "    .colab-df-container {\n",
              "      display:flex;\n",
              "      flex-wrap:wrap;\n",
              "      gap: 12px;\n",
              "    }\n",
              "\n",
              "    .colab-df-convert {\n",
              "      background-color: #E8F0FE;\n",
              "      border: none;\n",
              "      border-radius: 50%;\n",
              "      cursor: pointer;\n",
              "      display: none;\n",
              "      fill: #1967D2;\n",
              "      height: 32px;\n",
              "      padding: 0 0 0 0;\n",
              "      width: 32px;\n",
              "    }\n",
              "\n",
              "    .colab-df-convert:hover {\n",
              "      background-color: #E2EBFA;\n",
              "      box-shadow: 0px 1px 2px rgba(60, 64, 67, 0.3), 0px 1px 3px 1px rgba(60, 64, 67, 0.15);\n",
              "      fill: #174EA6;\n",
              "    }\n",
              "\n",
              "    [theme=dark] .colab-df-convert {\n",
              "      background-color: #3B4455;\n",
              "      fill: #D2E3FC;\n",
              "    }\n",
              "\n",
              "    [theme=dark] .colab-df-convert:hover {\n",
              "      background-color: #434B5C;\n",
              "      box-shadow: 0px 1px 3px 1px rgba(0, 0, 0, 0.15);\n",
              "      filter: drop-shadow(0px 1px 2px rgba(0, 0, 0, 0.3));\n",
              "      fill: #FFFFFF;\n",
              "    }\n",
              "  </style>\n",
              "\n",
              "      <script>\n",
              "        const buttonEl =\n",
              "          document.querySelector('#df-99716dc9-bba6-4fb2-90ca-10b39d094ab9 button.colab-df-convert');\n",
              "        buttonEl.style.display =\n",
              "          google.colab.kernel.accessAllowed ? 'block' : 'none';\n",
              "\n",
              "        async function convertToInteractive(key) {\n",
              "          const element = document.querySelector('#df-99716dc9-bba6-4fb2-90ca-10b39d094ab9');\n",
              "          const dataTable =\n",
              "            await google.colab.kernel.invokeFunction('convertToInteractive',\n",
              "                                                     [key], {});\n",
              "          if (!dataTable) return;\n",
              "\n",
              "          const docLinkHtml = 'Like what you see? Visit the ' +\n",
              "            '<a target=\"_blank\" href=https://colab.research.google.com/notebooks/data_table.ipynb>data table notebook</a>'\n",
              "            + ' to learn more about interactive tables.';\n",
              "          element.innerHTML = '';\n",
              "          dataTable['output_type'] = 'display_data';\n",
              "          await google.colab.output.renderOutput(dataTable, element);\n",
              "          const docLink = document.createElement('div');\n",
              "          docLink.innerHTML = docLinkHtml;\n",
              "          element.appendChild(docLink);\n",
              "        }\n",
              "      </script>\n",
              "    </div>\n",
              "  </div>\n",
              "  "
            ]
          },
          "metadata": {},
          "execution_count": 409
        }
      ],
      "source": [
        "# The code below is an illustration on how to sample data on train and validation samples.\n",
        "# You could use another library or a built-in function to perform sampling.\n",
        "\n",
        "from sklearn.model_selection import train_test_split\n",
        "train, validation = train_test_split(data_mergeN_sorted, test_size=0.4, random_state=44444) \n",
        "train.sample(2)"
      ]
    },
    {
      "cell_type": "code",
      "source": [
        "# v8\n",
        "\n",
        "X_train = train[['logTotalGift', 'logSalary','logAmtLastYear','Age','Referrals','logMinGift','logMaxGift','Woman','Recency','Contact','GaveLastYear','University / College','Elementary','Downtown','Seniority', 'Rural', 'Suburban']] \n",
        "Y_train = train['AmtThisYear']\n",
        "X_valid = validation[['logTotalGift', 'logSalary','logAmtLastYear','Age','Referrals','logMinGift','logMaxGift','Woman','Recency','Contact','GaveLastYear','University / College','Elementary','Downtown','Seniority', 'Rural', 'Suburban']] \n",
        "Y_valid = validation['AmtThisYear']"
      ],
      "metadata": {
        "id": "N_0zbtaeozsO"
      },
      "id": "N_0zbtaeozsO",
      "execution_count": null,
      "outputs": []
    },
    {
      "cell_type": "markdown",
      "id": "dfc2e8f5-9790-46bb-88f9-8517fea53e26",
      "metadata": {
        "id": "dfc2e8f5-9790-46bb-88f9-8517fea53e26"
      },
      "source": [
        "\n",
        "## Prebuilt Models\n",
        "\n",
        "***\n",
        "### Linear Regression Model\n",
        "\n",
        "\n",
        "> The [sk-learn library]( https://scikit-learn.org/stable/index.html) offers more advanced models. "
      ]
    },
    {
      "cell_type": "code",
      "execution_count": null,
      "id": "9f33ea4c",
      "metadata": {
        "collapsed": true,
        "colab": {
          "base_uri": "https://localhost:8080/",
          "height": 395
        },
        "id": "9f33ea4c",
        "outputId": "4f914db8-5285-4c2f-a327-145fb0b9ee69"
      },
      "outputs": [
        {
          "output_type": "error",
          "ename": "ValueError",
          "evalue": "ignored",
          "traceback": [
            "\u001b[0;31m---------------------------------------------------------------------------\u001b[0m",
            "\u001b[0;31mValueError\u001b[0m                                Traceback (most recent call last)",
            "\u001b[0;32m<ipython-input-411-e41bafc36085>\u001b[0m in \u001b[0;36m<module>\u001b[0;34m\u001b[0m\n\u001b[1;32m      3\u001b[0m \u001b[0mregr\u001b[0m \u001b[0;34m=\u001b[0m \u001b[0mlinear_model\u001b[0m\u001b[0;34m.\u001b[0m\u001b[0mLinearRegression\u001b[0m\u001b[0;34m(\u001b[0m\u001b[0;34m)\u001b[0m\u001b[0;34m\u001b[0m\u001b[0;34m\u001b[0m\u001b[0m\n\u001b[1;32m      4\u001b[0m \u001b[0;34m\u001b[0m\u001b[0m\n\u001b[0;32m----> 5\u001b[0;31m \u001b[0mregr\u001b[0m\u001b[0;34m.\u001b[0m\u001b[0mfit\u001b[0m\u001b[0;34m(\u001b[0m\u001b[0mX_train\u001b[0m\u001b[0;34m,\u001b[0m\u001b[0mY_train\u001b[0m\u001b[0;34m)\u001b[0m\u001b[0;34m\u001b[0m\u001b[0;34m\u001b[0m\u001b[0m\n\u001b[0m\u001b[1;32m      6\u001b[0m \u001b[0;34m\u001b[0m\u001b[0m\n\u001b[1;32m      7\u001b[0m \u001b[0mregr_predict\u001b[0m\u001b[0;34m=\u001b[0m\u001b[0mregr\u001b[0m\u001b[0;34m.\u001b[0m\u001b[0mpredict\u001b[0m\u001b[0;34m(\u001b[0m\u001b[0mX_valid\u001b[0m\u001b[0;34m)\u001b[0m\u001b[0;34m\u001b[0m\u001b[0;34m\u001b[0m\u001b[0m\n",
            "\u001b[0;32m/usr/local/lib/python3.8/dist-packages/sklearn/linear_model/_base.py\u001b[0m in \u001b[0;36mfit\u001b[0;34m(self, X, y, sample_weight)\u001b[0m\n\u001b[1;32m    660\u001b[0m         \u001b[0maccept_sparse\u001b[0m \u001b[0;34m=\u001b[0m \u001b[0;32mFalse\u001b[0m \u001b[0;32mif\u001b[0m \u001b[0mself\u001b[0m\u001b[0;34m.\u001b[0m\u001b[0mpositive\u001b[0m \u001b[0;32melse\u001b[0m \u001b[0;34m[\u001b[0m\u001b[0;34m\"csr\"\u001b[0m\u001b[0;34m,\u001b[0m \u001b[0;34m\"csc\"\u001b[0m\u001b[0;34m,\u001b[0m \u001b[0;34m\"coo\"\u001b[0m\u001b[0;34m]\u001b[0m\u001b[0;34m\u001b[0m\u001b[0;34m\u001b[0m\u001b[0m\n\u001b[1;32m    661\u001b[0m \u001b[0;34m\u001b[0m\u001b[0m\n\u001b[0;32m--> 662\u001b[0;31m         X, y = self._validate_data(\n\u001b[0m\u001b[1;32m    663\u001b[0m             \u001b[0mX\u001b[0m\u001b[0;34m,\u001b[0m \u001b[0my\u001b[0m\u001b[0;34m,\u001b[0m \u001b[0maccept_sparse\u001b[0m\u001b[0;34m=\u001b[0m\u001b[0maccept_sparse\u001b[0m\u001b[0;34m,\u001b[0m \u001b[0my_numeric\u001b[0m\u001b[0;34m=\u001b[0m\u001b[0;32mTrue\u001b[0m\u001b[0;34m,\u001b[0m \u001b[0mmulti_output\u001b[0m\u001b[0;34m=\u001b[0m\u001b[0;32mTrue\u001b[0m\u001b[0;34m\u001b[0m\u001b[0;34m\u001b[0m\u001b[0m\n\u001b[1;32m    664\u001b[0m         )\n",
            "\u001b[0;32m/usr/local/lib/python3.8/dist-packages/sklearn/base.py\u001b[0m in \u001b[0;36m_validate_data\u001b[0;34m(self, X, y, reset, validate_separately, **check_params)\u001b[0m\n\u001b[1;32m    579\u001b[0m                 \u001b[0my\u001b[0m \u001b[0;34m=\u001b[0m \u001b[0mcheck_array\u001b[0m\u001b[0;34m(\u001b[0m\u001b[0my\u001b[0m\u001b[0;34m,\u001b[0m \u001b[0;34m**\u001b[0m\u001b[0mcheck_y_params\u001b[0m\u001b[0;34m)\u001b[0m\u001b[0;34m\u001b[0m\u001b[0;34m\u001b[0m\u001b[0m\n\u001b[1;32m    580\u001b[0m             \u001b[0;32melse\u001b[0m\u001b[0;34m:\u001b[0m\u001b[0;34m\u001b[0m\u001b[0;34m\u001b[0m\u001b[0m\n\u001b[0;32m--> 581\u001b[0;31m                 \u001b[0mX\u001b[0m\u001b[0;34m,\u001b[0m \u001b[0my\u001b[0m \u001b[0;34m=\u001b[0m \u001b[0mcheck_X_y\u001b[0m\u001b[0;34m(\u001b[0m\u001b[0mX\u001b[0m\u001b[0;34m,\u001b[0m \u001b[0my\u001b[0m\u001b[0;34m,\u001b[0m \u001b[0;34m**\u001b[0m\u001b[0mcheck_params\u001b[0m\u001b[0;34m)\u001b[0m\u001b[0;34m\u001b[0m\u001b[0;34m\u001b[0m\u001b[0m\n\u001b[0m\u001b[1;32m    582\u001b[0m             \u001b[0mout\u001b[0m \u001b[0;34m=\u001b[0m \u001b[0mX\u001b[0m\u001b[0;34m,\u001b[0m \u001b[0my\u001b[0m\u001b[0;34m\u001b[0m\u001b[0;34m\u001b[0m\u001b[0m\n\u001b[1;32m    583\u001b[0m \u001b[0;34m\u001b[0m\u001b[0m\n",
            "\u001b[0;32m/usr/local/lib/python3.8/dist-packages/sklearn/utils/validation.py\u001b[0m in \u001b[0;36mcheck_X_y\u001b[0;34m(X, y, accept_sparse, accept_large_sparse, dtype, order, copy, force_all_finite, ensure_2d, allow_nd, multi_output, ensure_min_samples, ensure_min_features, y_numeric, estimator)\u001b[0m\n\u001b[1;32m    962\u001b[0m         \u001b[0;32mraise\u001b[0m \u001b[0mValueError\u001b[0m\u001b[0;34m(\u001b[0m\u001b[0;34m\"y cannot be None\"\u001b[0m\u001b[0;34m)\u001b[0m\u001b[0;34m\u001b[0m\u001b[0;34m\u001b[0m\u001b[0m\n\u001b[1;32m    963\u001b[0m \u001b[0;34m\u001b[0m\u001b[0m\n\u001b[0;32m--> 964\u001b[0;31m     X = check_array(\n\u001b[0m\u001b[1;32m    965\u001b[0m         \u001b[0mX\u001b[0m\u001b[0;34m,\u001b[0m\u001b[0;34m\u001b[0m\u001b[0;34m\u001b[0m\u001b[0m\n\u001b[1;32m    966\u001b[0m         \u001b[0maccept_sparse\u001b[0m\u001b[0;34m=\u001b[0m\u001b[0maccept_sparse\u001b[0m\u001b[0;34m,\u001b[0m\u001b[0;34m\u001b[0m\u001b[0;34m\u001b[0m\u001b[0m\n",
            "\u001b[0;32m/usr/local/lib/python3.8/dist-packages/sklearn/utils/validation.py\u001b[0m in \u001b[0;36mcheck_array\u001b[0;34m(array, accept_sparse, accept_large_sparse, dtype, order, copy, force_all_finite, ensure_2d, allow_nd, ensure_min_samples, ensure_min_features, estimator)\u001b[0m\n\u001b[1;32m    798\u001b[0m \u001b[0;34m\u001b[0m\u001b[0m\n\u001b[1;32m    799\u001b[0m         \u001b[0;32mif\u001b[0m \u001b[0mforce_all_finite\u001b[0m\u001b[0;34m:\u001b[0m\u001b[0;34m\u001b[0m\u001b[0;34m\u001b[0m\u001b[0m\n\u001b[0;32m--> 800\u001b[0;31m             \u001b[0m_assert_all_finite\u001b[0m\u001b[0;34m(\u001b[0m\u001b[0marray\u001b[0m\u001b[0;34m,\u001b[0m \u001b[0mallow_nan\u001b[0m\u001b[0;34m=\u001b[0m\u001b[0mforce_all_finite\u001b[0m \u001b[0;34m==\u001b[0m \u001b[0;34m\"allow-nan\"\u001b[0m\u001b[0;34m)\u001b[0m\u001b[0;34m\u001b[0m\u001b[0;34m\u001b[0m\u001b[0m\n\u001b[0m\u001b[1;32m    801\u001b[0m \u001b[0;34m\u001b[0m\u001b[0m\n\u001b[1;32m    802\u001b[0m     \u001b[0;32mif\u001b[0m \u001b[0mensure_min_samples\u001b[0m \u001b[0;34m>\u001b[0m \u001b[0;36m0\u001b[0m\u001b[0;34m:\u001b[0m\u001b[0;34m\u001b[0m\u001b[0;34m\u001b[0m\u001b[0m\n",
            "\u001b[0;32m/usr/local/lib/python3.8/dist-packages/sklearn/utils/validation.py\u001b[0m in \u001b[0;36m_assert_all_finite\u001b[0;34m(X, allow_nan, msg_dtype)\u001b[0m\n\u001b[1;32m    112\u001b[0m         ):\n\u001b[1;32m    113\u001b[0m             \u001b[0mtype_err\u001b[0m \u001b[0;34m=\u001b[0m \u001b[0;34m\"infinity\"\u001b[0m \u001b[0;32mif\u001b[0m \u001b[0mallow_nan\u001b[0m \u001b[0;32melse\u001b[0m \u001b[0;34m\"NaN, infinity\"\u001b[0m\u001b[0;34m\u001b[0m\u001b[0;34m\u001b[0m\u001b[0m\n\u001b[0;32m--> 114\u001b[0;31m             raise ValueError(\n\u001b[0m\u001b[1;32m    115\u001b[0m                 msg_err.format(\n\u001b[1;32m    116\u001b[0m                     \u001b[0mtype_err\u001b[0m\u001b[0;34m,\u001b[0m \u001b[0mmsg_dtype\u001b[0m \u001b[0;32mif\u001b[0m \u001b[0mmsg_dtype\u001b[0m \u001b[0;32mis\u001b[0m \u001b[0;32mnot\u001b[0m \u001b[0;32mNone\u001b[0m \u001b[0;32melse\u001b[0m \u001b[0mX\u001b[0m\u001b[0;34m.\u001b[0m\u001b[0mdtype\u001b[0m\u001b[0;34m\u001b[0m\u001b[0;34m\u001b[0m\u001b[0m\n",
            "\u001b[0;31mValueError\u001b[0m: Input contains NaN, infinity or a value too large for dtype('float64')."
          ]
        }
      ],
      "source": [
        "from sklearn import linear_model\n",
        "\n",
        "regr = linear_model.LinearRegression()\n",
        "\n",
        "regr.fit(X_train,Y_train)\n",
        "\n",
        "regr_predict=regr.predict(X_valid)\n",
        "\n",
        "print(regr_predict)"
      ]
    },
    {
      "cell_type": "code",
      "execution_count": null,
      "id": "a6ff2946",
      "metadata": {
        "collapsed": true,
        "id": "a6ff2946"
      },
      "outputs": [],
      "source": [
        "import numpy as np\n",
        "from sklearn import metrics\n",
        "#MAE\n",
        "print(metrics.mean_absolute_error(Y_valid,regr_predict))\n",
        "#MSE\n",
        "print(metrics.mean_squared_error(Y_valid,regr_predict))\n",
        "#RMSE\n",
        "print(np.sqrt(metrics.mean_squared_error(Y_valid,regr_predict)))"
      ]
    },
    {
      "cell_type": "markdown",
      "id": "a6f78891",
      "metadata": {
        "id": "a6f78891"
      },
      "source": [
        "## Regression Tree Model（Py）"
      ]
    },
    {
      "cell_type": "code",
      "execution_count": null,
      "id": "0560fcdd",
      "metadata": {
        "collapsed": true,
        "id": "0560fcdd"
      },
      "outputs": [],
      "source": [
        "from sklearn.tree import DecisionTreeRegressor\n",
        "\n",
        "DT_model = DecisionTreeRegressor(max_depth=5, random_state=0).fit(X_train,Y_train)\n",
        "DT_predict = DT_model.predict(X_valid) #Predictions on Testing data\n",
        "print(DT_predict)"
      ]
    },
    {
      "cell_type": "code",
      "execution_count": null,
      "id": "a634a11d",
      "metadata": {
        "collapsed": true,
        "id": "a634a11d"
      },
      "outputs": [],
      "source": [
        "#you can change the criteria\n",
        "#MAE\n",
        "print(metrics.mean_absolute_error(Y_valid,DT_predict))\n",
        "#MSE\n",
        "print(metrics.mean_squared_error(Y_valid,DT_predict))\n",
        "#RMSE\n",
        "print(np.sqrt(metrics.mean_squared_error(Y_valid,DT_predict)))"
      ]
    },
    {
      "cell_type": "markdown",
      "metadata": {
        "id": "eSeJus13bh9H"
      },
      "source": [
        "## XGB Boost Model"
      ],
      "id": "eSeJus13bh9H"
    },
    {
      "cell_type": "code",
      "execution_count": null,
      "metadata": {
        "id": "rsZlyRy9bh9I"
      },
      "outputs": [],
      "source": [
        "from xgboost import XGBRegressor\n",
        "\n",
        "xgb_model = XGBRegressor(objective='reg:squarederror').fit(X_train, Y_train)\n",
        "XGB_predict = xgb_model.predict(X_valid)\n"
      ],
      "id": "rsZlyRy9bh9I"
    },
    {
      "cell_type": "code",
      "execution_count": null,
      "metadata": {
        "id": "29FBtHR8bh9J"
      },
      "outputs": [],
      "source": [
        "#you can change the criteria\n",
        "#MAE\n",
        "print(metrics.mean_absolute_error(Y_valid,XGB_predict))\n",
        "#MSE\n",
        "print(metrics.mean_squared_error(Y_valid,XGB_predict))\n",
        "#RMSE\n",
        "print(np.sqrt(metrics.mean_squared_error(Y_valid,XGB_predict)))"
      ],
      "id": "29FBtHR8bh9J"
    },
    {
      "cell_type": "markdown",
      "source": [
        "# lgb"
      ],
      "metadata": {
        "id": "HiuUTpK_TUUa"
      },
      "id": "HiuUTpK_TUUa"
    },
    {
      "cell_type": "markdown",
      "id": "28190b6e",
      "metadata": {
        "id": "28190b6e"
      },
      "source": [
        "### **Other models may also be helpful for this game**\n",
        "\n",
        "Reference: https://scikit-learn.org/stable/supervised_learning.html\n"
      ]
    },
    {
      "cell_type": "markdown",
      "id": "95983c35",
      "metadata": {
        "id": "95983c35"
      },
      "source": [
        "## Scoring New Data\n",
        "\n",
        "### Prepare data for scoring"
      ]
    },
    {
      "cell_type": "code",
      "execution_count": null,
      "id": "d1639b73",
      "metadata": {
        "id": "d1639b73"
      },
      "outputs": [],
      "source": [
        "data3 = sas_session.sasdata2dataframe(\n",
        "table='score',\n",
        "libref='cortex'\n",
        ")\n",
        "data4 = sas_session.sasdata2dataframe(\n",
        "table='score_rd2_contact',\n",
        "libref='cortex'\n",
        ")\n",
        "data5 = sas_session.sasdata2dataframe(\n",
        "table='score_rd2_nocontact',\n",
        "libref='cortex'\n",
        ")"
      ]
    },
    {
      "cell_type": "markdown",
      "id": "47f7d483-c503-4da1-accf-8c080a7b81b0",
      "metadata": {
        "id": "47f7d483-c503-4da1-accf-8c080a7b81b0"
      },
      "source": [
        " ### Score new data based on your champion model\n",
        " \n",
        " Pick your champion model from previous steps and use it to predict next year donations. \n",
        " \n",
        " In this case, the linear regression model performed better than the regression tree based on the MSE criteria."
      ]
    },
    {
      "cell_type": "markdown",
      "id": "5bdb9c23-03d9-4dfe-82ca-667b44e99603",
      "metadata": {
        "id": "5bdb9c23-03d9-4dfe-82ca-667b44e99603"
      },
      "source": [
        "### Predict 'amount given' for members who were contacted"
      ]
    },
    {
      "cell_type": "code",
      "execution_count": null,
      "id": "09ec1430",
      "metadata": {
        "collapsed": true,
        "id": "09ec1430"
      },
      "outputs": [],
      "source": [
        "scoring_data_contact = pd.merge(data3, data4, on=[\"ID\"],how=\"right\")\n",
        "\n",
        "# Perform the same strategy for handling missing values for the score dataset.\n",
        "# In this case, we will only replace missing values of the MinGift variable.\n",
        "scoring_data_contact.rename(columns={\"City\": \"Location\"}, inplace = True)\n",
        "\n",
        "import numpy as np\n",
        "scoring_data_contact[['Salary']] = scoring_data_contact[['Salary']].fillna(value=0)  \n",
        "scoring_data_contact[['Referrals']] = scoring_data_contact[['Referrals']].fillna(value=0)  \n",
        "scoring_data_contact[['TotalGift']] = scoring_data_contact[['TotalGift']].fillna(value=0)  \n",
        "scoring_data_contact[['MaxGift']] = scoring_data_contact[['MaxGift']].fillna(value=0)  \n",
        "scoring_data_contact[['MinGift']] = scoring_data_contact[['MinGift']].fillna(value=0)  \n",
        "scoring_data_contact[['AmtLastYear']] = scoring_data_contact[['AmtLastYear']].fillna(value=0)  \n",
        "scoring_data_contact[['Recency']] = scoring_data_contact[['Recency']].fillna(value=100)  \n",
        "scoring_data_contact[['HistoricDonor']] = scoring_data_contact[['Frequency']].notna().astype(int)\n",
        "\n",
        "\n",
        "scoring_data_contact['logSalary']= np.log(scoring_data_contact['Salary'])+1\n",
        "scoring_data_contact['logReferrals']= np.log(scoring_data_contact['Referrals'])+1\n",
        "scoring_data_contact['logTotalGift']= np.log(scoring_data_contact['TotalGift'])+1\n",
        "scoring_data_contact['logMaxGift']= np.log(scoring_data_contact['MaxGift'])+1\n",
        "scoring_data_contact['logMinGift']= np.log(scoring_data_contact['MinGift'])+1\n",
        "scoring_data_contact['logAmtLastYear']= np.log(scoring_data_contact['AmtLastYear'])+1\n",
        "\n",
        "scoring_data_contact.head(10)\n",
        "\n",
        "scoring_data_contact.loc[scoring_data_contact['logSalary'] < 1, 'logSalary'] = 0\n",
        "scoring_data_contact.loc[scoring_data_contact['logReferrals'] < 1, 'logReferrals'] = 0\n",
        "scoring_data_contact.loc[scoring_data_contact['logTotalGift'] < 1, 'logTotalGift'] = 0\n",
        "scoring_data_contact.loc[scoring_data_contact['logTotalGift'] < 1, 'logTotalGift'] = 0\n",
        "scoring_data_contact.loc[scoring_data_contact['logMaxGift'] < 1, 'logMaxGift'] = 0\n",
        "scoring_data_contact.loc[scoring_data_contact['logMinGift'] < 1, 'logMinGift'] = 0\n",
        "scoring_data_contact.loc[scoring_data_contact['logAmtLastYear'] < 1, 'logAmtLastYear'] = 0\n",
        "\n",
        "\n",
        "scoring_data_contact = dummies(scoring_data_contact, \"Education\")\n",
        "scoring_data_contact = dummies(scoring_data_contact, \"Location\")\n",
        "\n",
        "X = scoring_data_contact[['logTotalGift', 'logSalary','logAmtLastYear','Age','Referrals','logMinGift','logMaxGift','Woman','Recency','Contact','GaveLastYear','University / College','Elementary','Downtown', 'Rural', 'Suburban']] \n",
        "\n",
        "regr_predict_contact=xgb_model.predict(X)\n",
        "\n",
        "scoring_data_contact['Prediction'] = regr_predict_contact\n",
        "\n",
        "scoring_data_contact= scoring_data_contact[['ID','Prediction']]\n",
        "scoring_data_contact = scoring_data_contact.rename({'Prediction': 'AmtContact'}, axis=1) \n",
        "scoring_data_contact.head()"
      ]
    },
    {
      "cell_type": "markdown",
      "id": "f3fa6e3f-da9c-4121-b896-f5ba52f8d4f3",
      "metadata": {
        "id": "f3fa6e3f-da9c-4121-b896-f5ba52f8d4f3"
      },
      "source": [
        "### Predict 'amount given' for members who were not contacted"
      ]
    },
    {
      "cell_type": "code",
      "execution_count": null,
      "id": "9c0f1c5b",
      "metadata": {
        "collapsed": true,
        "id": "9c0f1c5b"
      },
      "outputs": [],
      "source": [
        "scoring_data_nocontact = pd.merge(data3, data5, on=[\"ID\"],how=\"right\")\n",
        "\n",
        "# Perform the same strategy for handling missing values for the score dataset.\n",
        "# In this case, we will only replace missing values of the MinGift variable.\n",
        "scoring_data_nocontact.rename(columns={\"City\": \"Location\"}, inplace = True)\n",
        "\n",
        "import numpy as np\n",
        "scoring_data_nocontact[['Salary']] = scoring_data_nocontact[['Salary']].fillna(value=0)  \n",
        "scoring_data_nocontact[['Referrals']] = scoring_data_nocontact[['Referrals']].fillna(value=0)  \n",
        "scoring_data_nocontact[['TotalGift']] = scoring_data_nocontact[['TotalGift']].fillna(value=0)  \n",
        "scoring_data_nocontact[['MaxGift']] = scoring_data_nocontact[['MaxGift']].fillna(value=0)  \n",
        "scoring_data_nocontact[['MinGift']] = scoring_data_nocontact[['MinGift']].fillna(value=0)  \n",
        "scoring_data_nocontact[['AmtLastYear']] = scoring_data_nocontact[['AmtLastYear']].fillna(value=0)  \n",
        "scoring_data_nocontact[['Recency']] = scoring_data_nocontact[['Recency']].fillna(value=100)  \n",
        "scoring_data_nocontact[['HistoricDonor']] = scoring_data_nocontact[['Frequency']].notna().astype(int)\n",
        "\n",
        "\n",
        "scoring_data_nocontact = dummies(scoring_data_nocontact, \"Education\")\n",
        "scoring_data_nocontact = dummies(scoring_data_nocontact, \"Location\")\n",
        "\n",
        "\n",
        "scoring_data_nocontact['logSalary']= np.log(scoring_data_nocontact['Salary'])+1\n",
        "scoring_data_nocontact['logReferrals']= np.log(scoring_data_nocontact['Referrals'])+1\n",
        "scoring_data_nocontact['logTotalGift']= np.log(scoring_data_nocontact['TotalGift'])+1\n",
        "scoring_data_nocontact['logMaxGift']= np.log(scoring_data_nocontact['MaxGift'])+1\n",
        "scoring_data_nocontact['logMinGift']= np.log(scoring_data_nocontact['MinGift'])+1\n",
        "scoring_data_nocontact['logAmtLastYear']= np.log(scoring_data_nocontact['AmtLastYear'])+1\n",
        "\n",
        "scoring_data_nocontact.head(10)\n",
        "\n",
        "scoring_data_nocontact.loc[scoring_data_nocontact['logSalary'] < 1, 'logSalary'] = 0\n",
        "scoring_data_nocontact.loc[scoring_data_nocontact['logReferrals'] < 1, 'logReferrals'] = 0\n",
        "scoring_data_nocontact.loc[scoring_data_nocontact['logTotalGift'] < 1, 'logTotalGift'] = 0\n",
        "scoring_data_nocontact.loc[scoring_data_nocontact['logTotalGift'] < 1, 'logTotalGift'] = 0\n",
        "scoring_data_nocontact.loc[scoring_data_nocontact['logMaxGift'] < 1, 'logMaxGift'] = 0\n",
        "scoring_data_nocontact.loc[scoring_data_nocontact['logMinGift'] < 1, 'logMinGift'] = 0\n",
        "scoring_data_nocontact.loc[scoring_data_nocontact['logAmtLastYear'] < 1, 'logAmtLastYear'] = 0\n",
        "\n",
        "X = scoring_data_nocontact[['logTotalGift', 'logSalary','logAmtLastYear','Age','Referrals','logMinGift','logMaxGift','Woman','Recency','Contact','GaveLastYear','University / College','Elementary','Downtown', 'Rural', 'Suburban']] \n",
        "regr_predict_nocontact=xgb_model.predict(X)\n",
        "\n",
        "scoring_data_nocontact['Prediction'] = regr_predict_nocontact\n",
        "\n",
        "scoring_data_nocontact= scoring_data_nocontact[['ID','Prediction']]\n",
        "scoring_data_nocontact = scoring_data_nocontact.rename({'Prediction': 'AmtNoContact'}, axis=1) \n",
        "scoring_data_nocontact.head()"
      ]
    },
    {
      "cell_type": "code",
      "execution_count": null,
      "id": "5036d69c",
      "metadata": {
        "collapsed": true,
        "id": "5036d69c"
      },
      "outputs": [],
      "source": [
        "result_Amt = pd.merge(scoring_data_contact, scoring_data_nocontact, on=[\"ID\"],how=\"right\")\n",
        "result_Amt.sort_values(by=['ID'], inplace=True)\n",
        "result_Amt.head(3)"
      ]
    },
    {
      "cell_type": "markdown",
      "id": "f09bf90d",
      "metadata": {
        "id": "f09bf90d"
      },
      "source": [
        "## Exporting Results to a CSV File"
      ]
    },
    {
      "cell_type": "code",
      "execution_count": null,
      "id": "606bf0a9",
      "metadata": {
        "id": "606bf0a9"
      },
      "outputs": [],
      "source": [
        "result_Amt.to_csv('Round2_Output_amt.csv', index=False)"
      ]
    },
    {
      "cell_type": "code",
      "execution_count": null,
      "id": "ccce0857",
      "metadata": {
        "id": "ccce0857"
      },
      "outputs": [],
      "source": [
        "# Reminder: You are now done with step 1 of Round 2 on predicting the conditional amount.\n",
        "# Next, to complete Round2, you need to perform step 2 to predict the probability of giving, calculate the uplift and prepare your decision."
      ]
    },
    {
      "cell_type": "code",
      "source": [
        "!head Round2_Output_amt.csv"
      ],
      "metadata": {
        "id": "cJXIon3nFSHJ"
      },
      "id": "cJXIon3nFSHJ",
      "execution_count": null,
      "outputs": []
    }
  ],
  "metadata": {
    "kernelspec": {
      "display_name": "Python 3",
      "language": "python",
      "name": "python3"
    },
    "language_info": {
      "codemirror_mode": {
        "name": "ipython",
        "version": 3
      },
      "file_extension": ".py",
      "mimetype": "text/x-python",
      "name": "python",
      "nbconvert_exporter": "python",
      "pygments_lexer": "ipython3",
      "version": "3.8.8"
    },
    "colab": {
      "provenance": [],
      "collapsed_sections": [
        "28190b6e",
        "47f7d483-c503-4da1-accf-8c080a7b81b0"
      ]
    }
  },
  "nbformat": 4,
  "nbformat_minor": 5
}